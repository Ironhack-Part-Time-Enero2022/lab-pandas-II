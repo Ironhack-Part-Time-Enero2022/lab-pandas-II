{
 "cells": [
  {
   "cell_type": "markdown",
   "id": "d7dc2feb",
   "metadata": {},
   "source": [
    "# Carga un dataset de la libreria `pydataset` \n",
    "\n",
    "Puedes elegir la que más te guste! \n",
    "\n",
    "Hint: ten en cuenta que os pediremos que hagais algunas transformaciones usando `apply` y `groupby`! "
   ]
  },
  {
   "cell_type": "code",
   "execution_count": 1,
   "id": "6d874175",
   "metadata": {},
   "outputs": [],
   "source": [
    "import pandas as pd\n",
    "import numpy as np\n",
    "import datetime\n",
    "\n",
    "pd.options.display.max_columns = None"
   ]
  },
  {
   "cell_type": "code",
   "execution_count": 46,
   "id": "e9856b30",
   "metadata": {},
   "outputs": [
    {
     "data": {
      "text/html": [
       "<div>\n",
       "<style scoped>\n",
       "    .dataframe tbody tr th:only-of-type {\n",
       "        vertical-align: middle;\n",
       "    }\n",
       "\n",
       "    .dataframe tbody tr th {\n",
       "        vertical-align: top;\n",
       "    }\n",
       "\n",
       "    .dataframe thead th {\n",
       "        text-align: right;\n",
       "    }\n",
       "</style>\n",
       "<table border=\"1\" class=\"dataframe\">\n",
       "  <thead>\n",
       "    <tr style=\"text-align: right;\">\n",
       "      <th></th>\n",
       "      <th>id</th>\n",
       "      <th>name</th>\n",
       "      <th>popularity</th>\n",
       "      <th>duration_ms</th>\n",
       "      <th>explicit</th>\n",
       "      <th>artists</th>\n",
       "      <th>id_artists</th>\n",
       "      <th>release_date</th>\n",
       "      <th>danceability</th>\n",
       "      <th>energy</th>\n",
       "      <th>key</th>\n",
       "      <th>loudness</th>\n",
       "      <th>mode</th>\n",
       "      <th>speechiness</th>\n",
       "      <th>acousticness</th>\n",
       "      <th>instrumentalness</th>\n",
       "      <th>liveness</th>\n",
       "      <th>valence</th>\n",
       "      <th>tempo</th>\n",
       "      <th>time_signature</th>\n",
       "    </tr>\n",
       "  </thead>\n",
       "  <tbody>\n",
       "    <tr>\n",
       "      <th>0</th>\n",
       "      <td>35iwgR4jXetI318WEWsa1Q</td>\n",
       "      <td>Carve</td>\n",
       "      <td>6</td>\n",
       "      <td>126903</td>\n",
       "      <td>0</td>\n",
       "      <td>['Uli']</td>\n",
       "      <td>['45tIt06XoI0Iio4LBEVpls']</td>\n",
       "      <td>1922-02-22</td>\n",
       "      <td>0.645</td>\n",
       "      <td>0.445</td>\n",
       "      <td>0</td>\n",
       "      <td>-13.338</td>\n",
       "      <td>1</td>\n",
       "      <td>0.451</td>\n",
       "      <td>0.674</td>\n",
       "      <td>0.744</td>\n",
       "      <td>0.151</td>\n",
       "      <td>0.127</td>\n",
       "      <td>104.851</td>\n",
       "      <td>3</td>\n",
       "    </tr>\n",
       "  </tbody>\n",
       "</table>\n",
       "</div>"
      ],
      "text/plain": [
       "                       id   name  popularity  duration_ms  explicit  artists  \\\n",
       "0  35iwgR4jXetI318WEWsa1Q  Carve           6       126903         0  ['Uli']   \n",
       "\n",
       "                   id_artists release_date  danceability  energy  key  \\\n",
       "0  ['45tIt06XoI0Iio4LBEVpls']   1922-02-22         0.645   0.445    0   \n",
       "\n",
       "   loudness  mode  speechiness  acousticness  instrumentalness  liveness  \\\n",
       "0   -13.338     1        0.451         0.674             0.744     0.151   \n",
       "\n",
       "   valence    tempo  time_signature  \n",
       "0    0.127  104.851               3  "
      ]
     },
     "execution_count": 46,
     "metadata": {},
     "output_type": "execute_result"
    }
   ],
   "source": [
    "df_spoty = pd.read_csv(r\"/mnt/c/Users/mituc/Ironhack/Curso/IronLabs/lab-pandas-II/data/tracks.csv\", encoding = \"ISO-8859-1\", engine='python')\n",
    "df_spoty.head(1)"
   ]
  },
  {
   "cell_type": "markdown",
   "id": "ed91f5f9",
   "metadata": {},
   "source": [
    "# Explora el dataset elegido \n",
    "\n",
    "- Cuantas columnas tenemos\n",
    "- Cuantos nulos\n",
    "- Haz una descripción\n",
    "- ¿Puedes homogeneizar el nombre de las columnas?\n",
    "\n",
    "Tómate tu tiempo para entender el dataframe y la información que hay en el. Y escribe brevemente las conclusiones principales de el dataset elegido. \n",
    "\n",
    "**No te olvides de guardar tu nuevo csv limpio**"
   ]
  },
  {
   "cell_type": "code",
   "execution_count": 53,
   "id": "46f4a59b",
   "metadata": {},
   "outputs": [
    {
     "data": {
      "text/plain": [
       "id                   0\n",
       "name                71\n",
       "popularity           0\n",
       "duration_ms          0\n",
       "explicit             0\n",
       "artists              0\n",
       "id_artists           0\n",
       "release_date         0\n",
       "danceability         0\n",
       "energy               0\n",
       "key                  0\n",
       "loudness             0\n",
       "mode                 0\n",
       "speechiness          0\n",
       "acousticness         0\n",
       "instrumentalness     0\n",
       "liveness             0\n",
       "valence              0\n",
       "tempo                0\n",
       "time_signature       0\n",
       "dtype: int64"
      ]
     },
     "execution_count": 53,
     "metadata": {},
     "output_type": "execute_result"
    }
   ],
   "source": [
    "df_spoty.shape\n",
    "# Hay 20 columnas y ¡586672 filas!\n",
    "pd.isnull(df_spoty).sum()\n",
    "# Tan solo 71 nulos en la columna 'name', ¡y el resto completo!"
   ]
  },
  {
   "cell_type": "markdown",
   "id": "f492d325",
   "metadata": {},
   "source": [
    "# Crea alguna función y aplícala a tu dataframe usando `apply`"
   ]
  },
  {
   "cell_type": "code",
   "execution_count": null,
   "id": "c5ceebf6",
   "metadata": {},
   "outputs": [],
   "source": []
  },
  {
   "cell_type": "markdown",
   "id": "d994e17d",
   "metadata": {},
   "source": [
    "# Aplica el conocimiento del groupby en tu dataframe y saca algunas conclusiones (practica el *story telling*)\n",
    "\n",
    "**BONUS** Plotea algunas de las conclusiones que hayas podido extraer"
   ]
  },
  {
   "cell_type": "code",
   "execution_count": null,
   "id": "0b31b3fb",
   "metadata": {},
   "outputs": [],
   "source": []
  }
 ],
 "metadata": {
  "interpreter": {
   "hash": "caa284f4f751518ff9267b5ec6e9fe7c4f75b1228d00e1dbeda6e1ad958ee2ed"
  },
  "kernelspec": {
   "display_name": "ironhack",
   "language": "python",
   "name": "python3"
  },
  "language_info": {
   "codemirror_mode": {
    "name": "ipython",
    "version": 3
   },
   "file_extension": ".py",
   "mimetype": "text/x-python",
   "name": "python",
   "nbconvert_exporter": "python",
   "pygments_lexer": "ipython3",
   "version": "3.9.7"
  },
  "toc": {
   "base_numbering": 1,
   "nav_menu": {},
   "number_sections": true,
   "sideBar": true,
   "skip_h1_title": false,
   "title_cell": "Table of Contents",
   "title_sidebar": "Contents",
   "toc_cell": false,
   "toc_position": {},
   "toc_section_display": true,
   "toc_window_display": false
  }
 },
 "nbformat": 4,
 "nbformat_minor": 5
}
