{
 "cells": [
  {
   "cell_type": "markdown",
   "id": "d7dc2feb",
   "metadata": {},
   "source": [
    "# Carga un dataset de la libreria `pydataset` \n",
    "\n",
    "Puedes elegir la que más te guste! \n",
    "\n",
    "Hint: ten en cuenta que os pediremos que hagais algunas transformaciones usando `apply` y `groupby`! "
   ]
  },
  {
   "cell_type": "code",
   "execution_count": 1,
   "id": "6d874175",
   "metadata": {},
   "outputs": [],
   "source": [
    "import pandas as pd\n",
    "import numpy as np\n",
    "import datetime\n",
    "from pydataset import data\n",
    "\n",
    "#import que vayamos a utilizar. \n",
    "\n",
    "pd.options.display.max_columns = None\n",
    "#me voy a pillar una database que encontré en línea de la trend del DOW Jones y no de pydataset\n",
    "\n",
    "# Date Pulled: 08/29/2017 11:30pm para poder entender la comparación"
   ]
  },
  {
   "cell_type": "code",
   "execution_count": null,
   "id": "16a01d09",
   "metadata": {},
   "outputs": [],
   "source": [
    "df_dow = pd.read_csv('dowjones.csv',encoding='latin-1') #importante para español!\n",
    "df_dow.head(2)"
   ]
  },
  {
   "cell_type": "markdown",
   "id": "ed91f5f9",
   "metadata": {},
   "source": [
    "# Explora el dataset elegido \n",
    "\n",
    "- Cuantas columnas tenemos\n",
    "- Cuantos nulos\n",
    "- Haz una descripción\n",
    "- ¿Puedes homogeneizar el nombre de las columnas?\n",
    "\n",
    "Tómate tu tiempo para entender el dataframe y la información que hay en el. Y escribe brevemente las conclusiones principales de el dataset elegido. \n",
    "\n",
    "**No te olvides de guardar tu nuevo csv limpio**"
   ]
  },
  {
   "cell_type": "code",
   "execution_count": 3,
   "id": "46f4a59b",
   "metadata": {},
   "outputs": [
    {
     "name": "stdout",
     "output_type": "stream",
     "text": [
      "Index(['Company', 'Price', 'Volume', 'YTD Change', 'Volume * Price',\n",
      "       'Total Employees'],\n",
      "      dtype='object')\n",
      "Company            0\n",
      "Price              0\n",
      "Volume             0\n",
      "YTD Change         0\n",
      "Volume * Price     0\n",
      "Total Employees    0\n",
      "dtype: int64\n",
      "       Company     Price   Volume YTD Change    Volume * Price Total Employees\n",
      "count       30        30       30         30                30              30\n",
      "unique      30        30       30         30                30              30\n",
      "top     MMMÊ3M  Ê$202.92  991,291     13.64%  Ê$201,152,769.72          89,800\n",
      "freq         1         1        1          1                 1               1\n"
     ]
    }
   ],
   "source": [
    "print(df_dow.columns) #no me gustan las columnas, voy a cambiar y crear otras. \n",
    "print(df_dow.isnull().sum()) #ninguno, bien\n",
    "print(df_dow.describe()) #el describe me ayuda a confirmar las 30 compañias, que es lo que conforma al Dow de por ley. "
   ]
  },
  {
   "cell_type": "code",
   "execution_count": 4,
   "id": "0a805b14",
   "metadata": {
    "scrolled": true
   },
   "outputs": [
    {
     "data": {
      "text/html": [
       "<div>\n",
       "<style scoped>\n",
       "    .dataframe tbody tr th:only-of-type {\n",
       "        vertical-align: middle;\n",
       "    }\n",
       "\n",
       "    .dataframe tbody tr th {\n",
       "        vertical-align: top;\n",
       "    }\n",
       "\n",
       "    .dataframe thead th {\n",
       "        text-align: right;\n",
       "    }\n",
       "</style>\n",
       "<table border=\"1\" class=\"dataframe\">\n",
       "  <thead>\n",
       "    <tr style=\"text-align: right;\">\n",
       "      <th></th>\n",
       "      <th>Company</th>\n",
       "      <th>Price</th>\n",
       "      <th>Volume</th>\n",
       "      <th>YTD Change</th>\n",
       "      <th>Dollar Volume</th>\n",
       "      <th>Total Employees</th>\n",
       "    </tr>\n",
       "  </thead>\n",
       "  <tbody>\n",
       "    <tr>\n",
       "      <th>14</th>\n",
       "      <td>IBMÊIBM</td>\n",
       "      <td>Ê$143.14</td>\n",
       "      <td>3,009,520</td>\n",
       "      <td>-13.77%</td>\n",
       "      <td>Ê$430,782,692.80</td>\n",
       "      <td>386,558</td>\n",
       "    </tr>\n",
       "  </tbody>\n",
       "</table>\n",
       "</div>"
      ],
      "text/plain": [
       "    Company     Price     Volume YTD Change     Dollar Volume Total Employees\n",
       "14  IBMÊIBM  Ê$143.14  3,009,520    -13.77%  Ê$430,782,692.80         386,558"
      ]
     },
     "execution_count": 4,
     "metadata": {},
     "output_type": "execute_result"
    }
   ],
   "source": [
    "#cambio de columnas\n",
    "df_dow.rename(columns = {'Volume * Price':'Dollar Volume'}, inplace = True)\n",
    "df_dow.sample() #bien cambiando la columna, pero no me gusta que Dollar Volume y que Price empiecen con E"
   ]
  },
  {
   "cell_type": "code",
   "execution_count": 5,
   "id": "df12df29",
   "metadata": {},
   "outputs": [
    {
     "data": {
      "text/plain": [
       "'$33.50'"
      ]
     },
     "execution_count": 5,
     "metadata": {},
     "output_type": "execute_result"
    }
   ],
   "source": [
    "x = 'Ê$33.50'\n",
    "x.split('Ê')[1]"
   ]
  },
  {
   "cell_type": "markdown",
   "id": "f492d325",
   "metadata": {},
   "source": [
    "# Crea alguna función y aplícala a tu dataframe usando `apply`"
   ]
  },
  {
   "cell_type": "code",
   "execution_count": 6,
   "id": "c5ceebf6",
   "metadata": {},
   "outputs": [],
   "source": [
    "def limpiar_dinero(x):\n",
    "    billete_string = x.split('Ê')[1]\n",
    "    return billete_string"
   ]
  },
  {
   "cell_type": "code",
   "execution_count": 7,
   "id": "8bcf0aa8",
   "metadata": {
    "scrolled": true
   },
   "outputs": [
    {
     "data": {
      "text/html": [
       "<div>\n",
       "<style scoped>\n",
       "    .dataframe tbody tr th:only-of-type {\n",
       "        vertical-align: middle;\n",
       "    }\n",
       "\n",
       "    .dataframe tbody tr th {\n",
       "        vertical-align: top;\n",
       "    }\n",
       "\n",
       "    .dataframe thead th {\n",
       "        text-align: right;\n",
       "    }\n",
       "</style>\n",
       "<table border=\"1\" class=\"dataframe\">\n",
       "  <thead>\n",
       "    <tr style=\"text-align: right;\">\n",
       "      <th></th>\n",
       "      <th>Company</th>\n",
       "      <th>Price</th>\n",
       "      <th>Volume</th>\n",
       "      <th>YTD Change</th>\n",
       "      <th>Dollar Volume</th>\n",
       "      <th>Total Employees</th>\n",
       "      <th>Dollar Volume_</th>\n",
       "      <th>Price_</th>\n",
       "    </tr>\n",
       "  </thead>\n",
       "  <tbody>\n",
       "    <tr>\n",
       "      <th>0</th>\n",
       "      <td>MMMÊ3M</td>\n",
       "      <td>Ê$202.92</td>\n",
       "      <td>991,291</td>\n",
       "      <td>13.64%</td>\n",
       "      <td>Ê$201,152,769.72</td>\n",
       "      <td>89,800</td>\n",
       "      <td>$201,152,769.72</td>\n",
       "      <td>$202.92</td>\n",
       "    </tr>\n",
       "    <tr>\n",
       "      <th>1</th>\n",
       "      <td>AXPÊAmerican Express</td>\n",
       "      <td>Ê$85.42</td>\n",
       "      <td>2,779,385</td>\n",
       "      <td>15.31%</td>\n",
       "      <td>Ê$237,415,066.70</td>\n",
       "      <td>62,500</td>\n",
       "      <td>$237,415,066.70</td>\n",
       "      <td>$85.42</td>\n",
       "    </tr>\n",
       "    <tr>\n",
       "      <th>2</th>\n",
       "      <td>AAPLÊApple</td>\n",
       "      <td>Ê$162.91</td>\n",
       "      <td>29,516,910</td>\n",
       "      <td>40.66%</td>\n",
       "      <td>Ê$4,808,599,808.10</td>\n",
       "      <td>116,000</td>\n",
       "      <td>$4,808,599,808.10</td>\n",
       "      <td>$162.91</td>\n",
       "    </tr>\n",
       "    <tr>\n",
       "      <th>3</th>\n",
       "      <td>BAÊBoeing</td>\n",
       "      <td>Ê$240.49</td>\n",
       "      <td>3,535,465</td>\n",
       "      <td>54.48%</td>\n",
       "      <td>Ê$850,243,977.85</td>\n",
       "      <td>174,225</td>\n",
       "      <td>$850,243,977.85</td>\n",
       "      <td>$240.49</td>\n",
       "    </tr>\n",
       "    <tr>\n",
       "      <th>4</th>\n",
       "      <td>CATÊCaterpillar</td>\n",
       "      <td>Ê$116.01</td>\n",
       "      <td>4,355,661</td>\n",
       "      <td>25.09%</td>\n",
       "      <td>Ê$505,300,232.61</td>\n",
       "      <td>95,400</td>\n",
       "      <td>$505,300,232.61</td>\n",
       "      <td>$116.01</td>\n",
       "    </tr>\n",
       "  </tbody>\n",
       "</table>\n",
       "</div>"
      ],
      "text/plain": [
       "                Company     Price      Volume YTD Change       Dollar Volume  \\\n",
       "0                MMMÊ3M  Ê$202.92     991,291     13.64%    Ê$201,152,769.72   \n",
       "1  AXPÊAmerican Express   Ê$85.42   2,779,385     15.31%    Ê$237,415,066.70   \n",
       "2            AAPLÊApple  Ê$162.91  29,516,910     40.66%  Ê$4,808,599,808.10   \n",
       "3             BAÊBoeing  Ê$240.49   3,535,465     54.48%    Ê$850,243,977.85   \n",
       "4       CATÊCaterpillar  Ê$116.01   4,355,661     25.09%    Ê$505,300,232.61   \n",
       "\n",
       "  Total Employees     Dollar Volume_   Price_  \n",
       "0          89,800    $201,152,769.72  $202.92  \n",
       "1          62,500    $237,415,066.70   $85.42  \n",
       "2         116,000  $4,808,599,808.10  $162.91  \n",
       "3         174,225    $850,243,977.85  $240.49  \n",
       "4          95,400    $505,300,232.61  $116.01  "
      ]
     },
     "execution_count": 7,
     "metadata": {},
     "output_type": "execute_result"
    }
   ],
   "source": [
    "#a limpiar y crear nuevas columnas, borrando las anteriores\n",
    "df_dow['Dollar Volume_'] = df_dow['Dollar Volume'].apply(limpiar_dinero)\n",
    "df_dow['Price_'] = df_dow['Price'].apply(limpiar_dinero)\n",
    "df_dow.head()"
   ]
  },
  {
   "cell_type": "code",
   "execution_count": 8,
   "id": "71d87008",
   "metadata": {},
   "outputs": [],
   "source": [
    "#eliminamos las que no quiero\n",
    "eliminar = ['Price', 'Dollar Volume']"
   ]
  },
  {
   "cell_type": "code",
   "execution_count": 9,
   "id": "ac88e513",
   "metadata": {
    "scrolled": false
   },
   "outputs": [
    {
     "data": {
      "text/html": [
       "<div>\n",
       "<style scoped>\n",
       "    .dataframe tbody tr th:only-of-type {\n",
       "        vertical-align: middle;\n",
       "    }\n",
       "\n",
       "    .dataframe tbody tr th {\n",
       "        vertical-align: top;\n",
       "    }\n",
       "\n",
       "    .dataframe thead th {\n",
       "        text-align: right;\n",
       "    }\n",
       "</style>\n",
       "<table border=\"1\" class=\"dataframe\">\n",
       "  <thead>\n",
       "    <tr style=\"text-align: right;\">\n",
       "      <th></th>\n",
       "      <th>Company</th>\n",
       "      <th>Volume</th>\n",
       "      <th>YTD Change</th>\n",
       "      <th>Total Employees</th>\n",
       "      <th>Dollar Volume_</th>\n",
       "      <th>Price_</th>\n",
       "    </tr>\n",
       "  </thead>\n",
       "  <tbody>\n",
       "    <tr>\n",
       "      <th>0</th>\n",
       "      <td>MMMÊ3M</td>\n",
       "      <td>991,291</td>\n",
       "      <td>13.64%</td>\n",
       "      <td>89,800</td>\n",
       "      <td>$201,152,769.72</td>\n",
       "      <td>$202.92</td>\n",
       "    </tr>\n",
       "    <tr>\n",
       "      <th>1</th>\n",
       "      <td>AXPÊAmerican Express</td>\n",
       "      <td>2,779,385</td>\n",
       "      <td>15.31%</td>\n",
       "      <td>62,500</td>\n",
       "      <td>$237,415,066.70</td>\n",
       "      <td>$85.42</td>\n",
       "    </tr>\n",
       "    <tr>\n",
       "      <th>2</th>\n",
       "      <td>AAPLÊApple</td>\n",
       "      <td>29,516,910</td>\n",
       "      <td>40.66%</td>\n",
       "      <td>116,000</td>\n",
       "      <td>$4,808,599,808.10</td>\n",
       "      <td>$162.91</td>\n",
       "    </tr>\n",
       "    <tr>\n",
       "      <th>3</th>\n",
       "      <td>BAÊBoeing</td>\n",
       "      <td>3,535,465</td>\n",
       "      <td>54.48%</td>\n",
       "      <td>174,225</td>\n",
       "      <td>$850,243,977.85</td>\n",
       "      <td>$240.49</td>\n",
       "    </tr>\n",
       "    <tr>\n",
       "      <th>4</th>\n",
       "      <td>CATÊCaterpillar</td>\n",
       "      <td>4,355,661</td>\n",
       "      <td>25.09%</td>\n",
       "      <td>95,400</td>\n",
       "      <td>$505,300,232.61</td>\n",
       "      <td>$116.01</td>\n",
       "    </tr>\n",
       "  </tbody>\n",
       "</table>\n",
       "</div>"
      ],
      "text/plain": [
       "                Company      Volume YTD Change Total Employees  \\\n",
       "0                MMMÊ3M     991,291     13.64%          89,800   \n",
       "1  AXPÊAmerican Express   2,779,385     15.31%          62,500   \n",
       "2            AAPLÊApple  29,516,910     40.66%         116,000   \n",
       "3             BAÊBoeing   3,535,465     54.48%         174,225   \n",
       "4       CATÊCaterpillar   4,355,661     25.09%          95,400   \n",
       "\n",
       "      Dollar Volume_   Price_  \n",
       "0    $201,152,769.72  $202.92  \n",
       "1    $237,415,066.70   $85.42  \n",
       "2  $4,808,599,808.10  $162.91  \n",
       "3    $850,243,977.85  $240.49  \n",
       "4    $505,300,232.61  $116.01  "
      ]
     },
     "execution_count": 9,
     "metadata": {},
     "output_type": "execute_result"
    }
   ],
   "source": [
    "df_dowcl = df_dow.drop(eliminar, axis = 1)\n",
    "df_dowcl.head()"
   ]
  },
  {
   "cell_type": "code",
   "execution_count": 10,
   "id": "94ef31b5",
   "metadata": {},
   "outputs": [
    {
     "name": "stdout",
     "output_type": "stream",
     "text": [
      "MMM\n",
      "3M\n"
     ]
    }
   ],
   "source": [
    "#mmm que belleza pero ya va, que pasa con company!!! como ven, es el ticker+nombre de la compañia, mismo problema con la E\n",
    "\n",
    "y = 'MMMÊ3M'\n",
    "print(y.split('Ê')[0])\n",
    "print(y.split('Ê')[1])\n",
    "\n",
    "#buenisimo, tengo las 2 cosas que necesito. voy a tener 2 formulas y un apply para la creación de nuevas columnas"
   ]
  },
  {
   "cell_type": "code",
   "execution_count": 11,
   "id": "e25fb8e8",
   "metadata": {},
   "outputs": [],
   "source": [
    "#nombre de compañia limpio\n",
    "\n",
    "def limpiar_compa(y):\n",
    "    compa_string = y.split('Ê')[1]\n",
    "    return compa_string\n",
    "\n",
    "def limpiar_tick(y):\n",
    "    tick_string = y.split('Ê')[0]\n",
    "    return tick_string"
   ]
  },
  {
   "cell_type": "code",
   "execution_count": 12,
   "id": "276d7ac5",
   "metadata": {},
   "outputs": [
    {
     "data": {
      "text/html": [
       "<div>\n",
       "<style scoped>\n",
       "    .dataframe tbody tr th:only-of-type {\n",
       "        vertical-align: middle;\n",
       "    }\n",
       "\n",
       "    .dataframe tbody tr th {\n",
       "        vertical-align: top;\n",
       "    }\n",
       "\n",
       "    .dataframe thead th {\n",
       "        text-align: right;\n",
       "    }\n",
       "</style>\n",
       "<table border=\"1\" class=\"dataframe\">\n",
       "  <thead>\n",
       "    <tr style=\"text-align: right;\">\n",
       "      <th></th>\n",
       "      <th>Company</th>\n",
       "      <th>Volume</th>\n",
       "      <th>YTD Change</th>\n",
       "      <th>Total Employees</th>\n",
       "      <th>Dollar Volume_</th>\n",
       "      <th>Price_</th>\n",
       "      <th>Company_</th>\n",
       "      <th>Ticker</th>\n",
       "    </tr>\n",
       "  </thead>\n",
       "  <tbody>\n",
       "    <tr>\n",
       "      <th>0</th>\n",
       "      <td>MMMÊ3M</td>\n",
       "      <td>991,291</td>\n",
       "      <td>13.64%</td>\n",
       "      <td>89,800</td>\n",
       "      <td>$201,152,769.72</td>\n",
       "      <td>$202.92</td>\n",
       "      <td>3M</td>\n",
       "      <td>MMM</td>\n",
       "    </tr>\n",
       "    <tr>\n",
       "      <th>1</th>\n",
       "      <td>AXPÊAmerican Express</td>\n",
       "      <td>2,779,385</td>\n",
       "      <td>15.31%</td>\n",
       "      <td>62,500</td>\n",
       "      <td>$237,415,066.70</td>\n",
       "      <td>$85.42</td>\n",
       "      <td>American Express</td>\n",
       "      <td>AXP</td>\n",
       "    </tr>\n",
       "  </tbody>\n",
       "</table>\n",
       "</div>"
      ],
      "text/plain": [
       "                Company     Volume YTD Change Total Employees  \\\n",
       "0                MMMÊ3M    991,291     13.64%          89,800   \n",
       "1  AXPÊAmerican Express  2,779,385     15.31%          62,500   \n",
       "\n",
       "    Dollar Volume_   Price_          Company_ Ticker  \n",
       "0  $201,152,769.72  $202.92                3M    MMM  \n",
       "1  $237,415,066.70   $85.42  American Express    AXP  "
      ]
     },
     "execution_count": 12,
     "metadata": {},
     "output_type": "execute_result"
    }
   ],
   "source": [
    "df_dowcl['Company_'] = df_dowcl['Company'].apply(limpiar_compa)\n",
    "df_dowcl['Ticker'] = df_dowcl['Company'].apply(limpiar_tick)\n",
    "df_dowcl.head(2)"
   ]
  },
  {
   "cell_type": "code",
   "execution_count": 13,
   "id": "81e10b2d",
   "metadata": {
    "scrolled": false
   },
   "outputs": [
    {
     "data": {
      "text/html": [
       "<div>\n",
       "<style scoped>\n",
       "    .dataframe tbody tr th:only-of-type {\n",
       "        vertical-align: middle;\n",
       "    }\n",
       "\n",
       "    .dataframe tbody tr th {\n",
       "        vertical-align: top;\n",
       "    }\n",
       "\n",
       "    .dataframe thead th {\n",
       "        text-align: right;\n",
       "    }\n",
       "</style>\n",
       "<table border=\"1\" class=\"dataframe\">\n",
       "  <thead>\n",
       "    <tr style=\"text-align: right;\">\n",
       "      <th></th>\n",
       "      <th>Volume</th>\n",
       "      <th>YTD Change</th>\n",
       "      <th>Total Employees</th>\n",
       "      <th>Dollar Volume_</th>\n",
       "      <th>Price_</th>\n",
       "      <th>Company_</th>\n",
       "    </tr>\n",
       "    <tr>\n",
       "      <th>Ticker</th>\n",
       "      <th></th>\n",
       "      <th></th>\n",
       "      <th></th>\n",
       "      <th></th>\n",
       "      <th></th>\n",
       "      <th></th>\n",
       "    </tr>\n",
       "  </thead>\n",
       "  <tbody>\n",
       "    <tr>\n",
       "      <th>JPM</th>\n",
       "      <td>10,886,082</td>\n",
       "      <td>5.57%</td>\n",
       "      <td>250,355</td>\n",
       "      <td>$991,722,070.20</td>\n",
       "      <td>$91.10</td>\n",
       "      <td>JPMorgan Chase</td>\n",
       "    </tr>\n",
       "    <tr>\n",
       "      <th>BA</th>\n",
       "      <td>3,535,465</td>\n",
       "      <td>54.48%</td>\n",
       "      <td>174,225</td>\n",
       "      <td>$850,243,977.85</td>\n",
       "      <td>$240.49</td>\n",
       "      <td>Boeing</td>\n",
       "    </tr>\n",
       "    <tr>\n",
       "      <th>MSFT</th>\n",
       "      <td>11,478,382</td>\n",
       "      <td>17.56%</td>\n",
       "      <td>120,849</td>\n",
       "      <td>$838,495,805.10</td>\n",
       "      <td>$73.05</td>\n",
       "      <td>Microsoft</td>\n",
       "    </tr>\n",
       "    <tr>\n",
       "      <th>HD</th>\n",
       "      <td>5,368,723</td>\n",
       "      <td>11.75%</td>\n",
       "      <td>385,000</td>\n",
       "      <td>$804,449,454.32</td>\n",
       "      <td>$149.84</td>\n",
       "      <td>Home Depot</td>\n",
       "    </tr>\n",
       "    <tr>\n",
       "      <th>V</th>\n",
       "      <td>7,135,312</td>\n",
       "      <td>33.00%</td>\n",
       "      <td>11,300</td>\n",
       "      <td>$740,431,326.24</td>\n",
       "      <td>$103.77</td>\n",
       "      <td>Visa</td>\n",
       "    </tr>\n",
       "  </tbody>\n",
       "</table>\n",
       "</div>"
      ],
      "text/plain": [
       "            Volume YTD Change Total Employees   Dollar Volume_   Price_  \\\n",
       "Ticker                                                                    \n",
       "JPM     10,886,082      5.57%         250,355  $991,722,070.20   $91.10   \n",
       "BA       3,535,465     54.48%         174,225  $850,243,977.85  $240.49   \n",
       "MSFT    11,478,382     17.56%         120,849  $838,495,805.10   $73.05   \n",
       "HD       5,368,723     11.75%         385,000  $804,449,454.32  $149.84   \n",
       "V        7,135,312     33.00%          11,300  $740,431,326.24  $103.77   \n",
       "\n",
       "              Company_  \n",
       "Ticker                  \n",
       "JPM     JPMorgan Chase  \n",
       "BA              Boeing  \n",
       "MSFT         Microsoft  \n",
       "HD          Home Depot  \n",
       "V                 Visa  "
      ]
     },
     "execution_count": 13,
     "metadata": {},
     "output_type": "execute_result"
    }
   ],
   "source": [
    "#mm okay pero no me gusta tener la Company vieja y ordernar algunas cosillas\n",
    "#eliminar company\n",
    "eliminar2 = ['Company']\n",
    "df_dowJ = df_dowcl.drop(eliminar2, axis = 1)\n",
    "\n",
    "#ahora a sortear por dollar volume\n",
    "df_dowJ.sort_values(by = ['Dollar Volume_'], ascending = False, inplace = True)\n",
    "\n",
    "#pero tambien quiero que mis tickers sean mis indices, ya que son unique identifiers\n",
    "\n",
    "df_dowJ.set_index(['Ticker'], inplace = True)\n",
    "\n",
    "#a ver que tal\n",
    "\n",
    "df_dowJ.head()"
   ]
  },
  {
   "cell_type": "code",
   "execution_count": 14,
   "id": "b33289ba",
   "metadata": {
    "scrolled": true
   },
   "outputs": [
    {
     "data": {
      "text/html": [
       "<div>\n",
       "<style scoped>\n",
       "    .dataframe tbody tr th:only-of-type {\n",
       "        vertical-align: middle;\n",
       "    }\n",
       "\n",
       "    .dataframe tbody tr th {\n",
       "        vertical-align: top;\n",
       "    }\n",
       "\n",
       "    .dataframe thead th {\n",
       "        text-align: right;\n",
       "    }\n",
       "</style>\n",
       "<table border=\"1\" class=\"dataframe\">\n",
       "  <thead>\n",
       "    <tr style=\"text-align: right;\">\n",
       "      <th></th>\n",
       "      <th>Volume</th>\n",
       "      <th>YTD Change</th>\n",
       "      <th>Total Employees</th>\n",
       "      <th>Dollar Volume</th>\n",
       "      <th>Price</th>\n",
       "      <th>Company</th>\n",
       "    </tr>\n",
       "    <tr>\n",
       "      <th>Ticker</th>\n",
       "      <th></th>\n",
       "      <th></th>\n",
       "      <th></th>\n",
       "      <th></th>\n",
       "      <th></th>\n",
       "      <th></th>\n",
       "    </tr>\n",
       "  </thead>\n",
       "  <tbody>\n",
       "    <tr>\n",
       "      <th>JPM</th>\n",
       "      <td>10,886,082</td>\n",
       "      <td>5.57%</td>\n",
       "      <td>250,355</td>\n",
       "      <td>$991,722,070.20</td>\n",
       "      <td>$91.10</td>\n",
       "      <td>JPMorgan Chase</td>\n",
       "    </tr>\n",
       "    <tr>\n",
       "      <th>BA</th>\n",
       "      <td>3,535,465</td>\n",
       "      <td>54.48%</td>\n",
       "      <td>174,225</td>\n",
       "      <td>$850,243,977.85</td>\n",
       "      <td>$240.49</td>\n",
       "      <td>Boeing</td>\n",
       "    </tr>\n",
       "  </tbody>\n",
       "</table>\n",
       "</div>"
      ],
      "text/plain": [
       "            Volume YTD Change Total Employees    Dollar Volume    Price  \\\n",
       "Ticker                                                                    \n",
       "JPM     10,886,082      5.57%         250,355  $991,722,070.20   $91.10   \n",
       "BA       3,535,465     54.48%         174,225  $850,243,977.85  $240.49   \n",
       "\n",
       "               Company  \n",
       "Ticker                  \n",
       "JPM     JPMorgan Chase  \n",
       "BA              Boeing  "
      ]
     },
     "execution_count": 14,
     "metadata": {},
     "output_type": "execute_result"
    }
   ],
   "source": [
    "#mm me gusta pero ahora los nombres de la columnas no son mis preferidos, el order tampoco. \n",
    "#me imagino que ha una maner que se puede hacer multiple, pero bueno, lo hago uno por uno. \n",
    "\n",
    "df_dowJ.rename(columns = {'Price_' : 'Price'}, inplace = True)\n",
    "df_dowJ.rename(columns = {'Company_' : 'Company'}, inplace = True)\n",
    "df_dowJ.rename(columns = {'Dollar Volume_' : 'Dollar Volume'}, inplace = True)\n",
    "df_dowJ.head(2)"
   ]
  },
  {
   "cell_type": "code",
   "execution_count": 15,
   "id": "9378ec81",
   "metadata": {},
   "outputs": [
    {
     "data": {
      "text/html": [
       "<div>\n",
       "<style scoped>\n",
       "    .dataframe tbody tr th:only-of-type {\n",
       "        vertical-align: middle;\n",
       "    }\n",
       "\n",
       "    .dataframe tbody tr th {\n",
       "        vertical-align: top;\n",
       "    }\n",
       "\n",
       "    .dataframe thead th {\n",
       "        text-align: right;\n",
       "    }\n",
       "</style>\n",
       "<table border=\"1\" class=\"dataframe\">\n",
       "  <thead>\n",
       "    <tr style=\"text-align: right;\">\n",
       "      <th></th>\n",
       "      <th>Company</th>\n",
       "      <th>Volume</th>\n",
       "      <th>YTD Change</th>\n",
       "      <th>Total Employees</th>\n",
       "      <th>Dollar Volume</th>\n",
       "      <th>Price</th>\n",
       "    </tr>\n",
       "    <tr>\n",
       "      <th>Ticker</th>\n",
       "      <th></th>\n",
       "      <th></th>\n",
       "      <th></th>\n",
       "      <th></th>\n",
       "      <th></th>\n",
       "      <th></th>\n",
       "    </tr>\n",
       "  </thead>\n",
       "  <tbody>\n",
       "    <tr>\n",
       "      <th>JPM</th>\n",
       "      <td>JPMorgan Chase</td>\n",
       "      <td>10,886,082</td>\n",
       "      <td>5.57%</td>\n",
       "      <td>250,355</td>\n",
       "      <td>$991,722,070.20</td>\n",
       "      <td>$91.10</td>\n",
       "    </tr>\n",
       "    <tr>\n",
       "      <th>BA</th>\n",
       "      <td>Boeing</td>\n",
       "      <td>3,535,465</td>\n",
       "      <td>54.48%</td>\n",
       "      <td>174,225</td>\n",
       "      <td>$850,243,977.85</td>\n",
       "      <td>$240.49</td>\n",
       "    </tr>\n",
       "  </tbody>\n",
       "</table>\n",
       "</div>"
      ],
      "text/plain": [
       "               Company      Volume YTD Change Total Employees  \\\n",
       "Ticker                                                          \n",
       "JPM     JPMorgan Chase  10,886,082      5.57%         250,355   \n",
       "BA              Boeing   3,535,465     54.48%         174,225   \n",
       "\n",
       "          Dollar Volume    Price  \n",
       "Ticker                            \n",
       "JPM     $991,722,070.20   $91.10  \n",
       "BA      $850,243,977.85  $240.49  "
      ]
     },
     "execution_count": 15,
     "metadata": {},
     "output_type": "execute_result"
    }
   ],
   "source": [
    "#nada mal, pero soy medio picky. quiero que la Company sea la primera columna despues del ticker\n",
    "#esto lo vi por internet, pero no se si es la mejor manera\n",
    "\n",
    "#declarar nombre como mi primera\n",
    "primera = df_dowJ.pop('Company')\n",
    "\n",
    "#insertar columna\n",
    "df_dowJ.insert(0,'Company',primera)\n",
    "\n",
    "#a ver\n",
    "df_dowJ.head(2)"
   ]
  },
  {
   "cell_type": "code",
   "execution_count": 16,
   "id": "e1d615e7",
   "metadata": {
    "scrolled": true
   },
   "outputs": [
    {
     "name": "stdout",
     "output_type": "stream",
     "text": [
      "Company            object\n",
      "Volume             object\n",
      "YTD Change         object\n",
      "Total Employees    object\n",
      "Dollar Volume      object\n",
      "Price              object\n",
      "dtype: object\n"
     ]
    }
   ],
   "source": [
    "#Belleza, ahora puedo empezar a usarla ya que arregle los formates\n",
    "\n",
    "#me interesa como es el precio del stock PY para eso, uso el YTD Change y el Price, para obtener el PY Price.\n",
    "\n",
    "#pero ojo, el YTD change ni el Price son numeros qu se puedan jugar con ellos. \n",
    "print(df_dowJ.dtypes)"
   ]
  },
  {
   "cell_type": "code",
   "execution_count": 17,
   "id": "9f90ed23",
   "metadata": {
    "scrolled": true
   },
   "outputs": [
    {
     "name": "stdout",
     "output_type": "stream",
     "text": [
      "91.1\n",
      "5.57\n"
     ]
    },
    {
     "data": {
      "text/html": [
       "<div>\n",
       "<style scoped>\n",
       "    .dataframe tbody tr th:only-of-type {\n",
       "        vertical-align: middle;\n",
       "    }\n",
       "\n",
       "    .dataframe tbody tr th {\n",
       "        vertical-align: top;\n",
       "    }\n",
       "\n",
       "    .dataframe thead th {\n",
       "        text-align: right;\n",
       "    }\n",
       "</style>\n",
       "<table border=\"1\" class=\"dataframe\">\n",
       "  <thead>\n",
       "    <tr style=\"text-align: right;\">\n",
       "      <th></th>\n",
       "      <th>Company</th>\n",
       "      <th>Volume</th>\n",
       "      <th>YTD Change</th>\n",
       "      <th>Total Employees</th>\n",
       "      <th>Dollar Volume</th>\n",
       "      <th>Price</th>\n",
       "    </tr>\n",
       "    <tr>\n",
       "      <th>Ticker</th>\n",
       "      <th></th>\n",
       "      <th></th>\n",
       "      <th></th>\n",
       "      <th></th>\n",
       "      <th></th>\n",
       "      <th></th>\n",
       "    </tr>\n",
       "  </thead>\n",
       "  <tbody>\n",
       "    <tr>\n",
       "      <th>JPM</th>\n",
       "      <td>JPMorgan Chase</td>\n",
       "      <td>10,886,082</td>\n",
       "      <td>5.57%</td>\n",
       "      <td>250,355</td>\n",
       "      <td>$991,722,070.20</td>\n",
       "      <td>$91.10</td>\n",
       "    </tr>\n",
       "    <tr>\n",
       "      <th>BA</th>\n",
       "      <td>Boeing</td>\n",
       "      <td>3,535,465</td>\n",
       "      <td>54.48%</td>\n",
       "      <td>174,225</td>\n",
       "      <td>$850,243,977.85</td>\n",
       "      <td>$240.49</td>\n",
       "    </tr>\n",
       "  </tbody>\n",
       "</table>\n",
       "</div>"
      ],
      "text/plain": [
       "               Company      Volume YTD Change Total Employees  \\\n",
       "Ticker                                                          \n",
       "JPM     JPMorgan Chase  10,886,082      5.57%         250,355   \n",
       "BA              Boeing   3,535,465     54.48%         174,225   \n",
       "\n",
       "          Dollar Volume    Price  \n",
       "Ticker                            \n",
       "JPM     $991,722,070.20   $91.10  \n",
       "BA      $850,243,977.85  $240.49  "
      ]
     },
     "execution_count": 17,
     "metadata": {},
     "output_type": "execute_result"
    }
   ],
   "source": [
    "#uh oh.. voy a tener que seguir limpiando, voy ahora a hacer lo mismo con los nombres, pero con el % y el $. y pasarlos a float!\n",
    "p = \"$91.10\"\n",
    "print(float(p.split('$')[1]))\n",
    "ytd = '5.57%'\n",
    "print(float(ytd.split('%')[0]))\n",
    "\n",
    "#son strings asi que lo pasé a float. \n",
    "#ahora a meterlas en formulas. \n",
    "def limpiar_price(p):\n",
    "    price_string = float(p.split('$')[1])\n",
    "    return price_string\n",
    "\n",
    "def limpiar_ytd(ytd):\n",
    "    ytd_string = float(ytd.split('%')[0])\n",
    "    return ytd_string\n",
    "\n",
    "df_dowJ.head(2)"
   ]
  },
  {
   "cell_type": "code",
   "execution_count": 18,
   "id": "8de1948e",
   "metadata": {
    "scrolled": false
   },
   "outputs": [
    {
     "data": {
      "text/html": [
       "<div>\n",
       "<style scoped>\n",
       "    .dataframe tbody tr th:only-of-type {\n",
       "        vertical-align: middle;\n",
       "    }\n",
       "\n",
       "    .dataframe tbody tr th {\n",
       "        vertical-align: top;\n",
       "    }\n",
       "\n",
       "    .dataframe thead th {\n",
       "        text-align: right;\n",
       "    }\n",
       "</style>\n",
       "<table border=\"1\" class=\"dataframe\">\n",
       "  <thead>\n",
       "    <tr style=\"text-align: right;\">\n",
       "      <th></th>\n",
       "      <th>Company</th>\n",
       "      <th>Volume</th>\n",
       "      <th>YTD Change</th>\n",
       "      <th>Total Employees</th>\n",
       "      <th>Dollar Volume</th>\n",
       "      <th>Price</th>\n",
       "      <th>Price ($)</th>\n",
       "      <th>YTD Change (%)</th>\n",
       "    </tr>\n",
       "    <tr>\n",
       "      <th>Ticker</th>\n",
       "      <th></th>\n",
       "      <th></th>\n",
       "      <th></th>\n",
       "      <th></th>\n",
       "      <th></th>\n",
       "      <th></th>\n",
       "      <th></th>\n",
       "      <th></th>\n",
       "    </tr>\n",
       "  </thead>\n",
       "  <tbody>\n",
       "    <tr>\n",
       "      <th>JPM</th>\n",
       "      <td>JPMorgan Chase</td>\n",
       "      <td>10,886,082</td>\n",
       "      <td>5.57%</td>\n",
       "      <td>250,355</td>\n",
       "      <td>$991,722,070.20</td>\n",
       "      <td>$91.10</td>\n",
       "      <td>91.10</td>\n",
       "      <td>5.57</td>\n",
       "    </tr>\n",
       "    <tr>\n",
       "      <th>BA</th>\n",
       "      <td>Boeing</td>\n",
       "      <td>3,535,465</td>\n",
       "      <td>54.48%</td>\n",
       "      <td>174,225</td>\n",
       "      <td>$850,243,977.85</td>\n",
       "      <td>$240.49</td>\n",
       "      <td>240.49</td>\n",
       "      <td>54.48</td>\n",
       "    </tr>\n",
       "  </tbody>\n",
       "</table>\n",
       "</div>"
      ],
      "text/plain": [
       "               Company      Volume YTD Change Total Employees  \\\n",
       "Ticker                                                          \n",
       "JPM     JPMorgan Chase  10,886,082      5.57%         250,355   \n",
       "BA              Boeing   3,535,465     54.48%         174,225   \n",
       "\n",
       "          Dollar Volume    Price  Price ($)  YTD Change (%)  \n",
       "Ticker                                                       \n",
       "JPM     $991,722,070.20   $91.10      91.10            5.57  \n",
       "BA      $850,243,977.85  $240.49     240.49           54.48  "
      ]
     },
     "execution_count": 18,
     "metadata": {},
     "output_type": "execute_result"
    }
   ],
   "source": [
    "#Applys para limpiar\n",
    "\n",
    "df_dowJ['Price ($)'] = df_dowJ['Price'].apply(limpiar_price)\n",
    "df_dowJ['YTD Change (%)'] = df_dowJ['YTD Change'].apply(limpiar_ytd)\n",
    "\n",
    "#a ver\n",
    "\n",
    "df_dowJ.head(2)"
   ]
  },
  {
   "cell_type": "code",
   "execution_count": 19,
   "id": "71d8db3a",
   "metadata": {
    "scrolled": true
   },
   "outputs": [],
   "source": [
    "#limpiar columnas. lo hice 2 veces y no encontro las columnas que ya borre, error mio\n",
    "#eliminar3 = ['Price', 'YTD Change']\n",
    "#df_dowJ = df_dowJ.drop(eliminar3, axis = 1)"
   ]
  },
  {
   "cell_type": "code",
   "execution_count": 20,
   "id": "326bdc9f",
   "metadata": {
    "scrolled": true
   },
   "outputs": [],
   "source": [
    "df_dowJ.head(2)\n",
    "\n",
    "#aaa ahora no me gusta dollar volume por que es el unico con dolar..... voy\n",
    "\n",
    "def limpiar_value(v):\n",
    "    val_string = v.split('$')[1]\n",
    "    return val_string\n",
    "\n",
    "df_dowJ['Dollar Volume ($)'] = df_dowJ['Dollar Volume'].apply(limpiar_value)\n",
    "\n",
    "#a borrar la vieja\n",
    "\n",
    "#eliminar4 = ['Dollar Volume']\n",
    "#df_dowJ = df_dowJ.drop(eliminar4, axis = 1)\n"
   ]
  },
  {
   "cell_type": "code",
   "execution_count": 21,
   "id": "b1215b88",
   "metadata": {},
   "outputs": [
    {
     "name": "stdout",
     "output_type": "stream",
     "text": [
      "Company               object\n",
      "Volume                object\n",
      "YTD Change            object\n",
      "Total Employees       object\n",
      "Dollar Volume         object\n",
      "Price                 object\n",
      "Price ($)            float64\n",
      "YTD Change (%)       float64\n",
      "Dollar Volume ($)     object\n",
      "dtype: object\n"
     ]
    }
   ],
   "source": [
    "print(df_dowJ.dtypes) #esto no me molesta, por que haré mi formula en price y YTD change"
   ]
  },
  {
   "cell_type": "code",
   "execution_count": 22,
   "id": "cb6e86f9",
   "metadata": {},
   "outputs": [],
   "source": [
    "def precio_viejo(x,y): #price es x / YTDChange es Y\n",
    "    return (x/((y/100)+1))"
   ]
  },
  {
   "cell_type": "code",
   "execution_count": 23,
   "id": "3cdd6777",
   "metadata": {
    "scrolled": true
   },
   "outputs": [
    {
     "data": {
      "text/html": [
       "<div>\n",
       "<style scoped>\n",
       "    .dataframe tbody tr th:only-of-type {\n",
       "        vertical-align: middle;\n",
       "    }\n",
       "\n",
       "    .dataframe tbody tr th {\n",
       "        vertical-align: top;\n",
       "    }\n",
       "\n",
       "    .dataframe thead th {\n",
       "        text-align: right;\n",
       "    }\n",
       "</style>\n",
       "<table border=\"1\" class=\"dataframe\">\n",
       "  <thead>\n",
       "    <tr style=\"text-align: right;\">\n",
       "      <th></th>\n",
       "      <th>Company</th>\n",
       "      <th>Volume</th>\n",
       "      <th>YTD Change</th>\n",
       "      <th>Total Employees</th>\n",
       "      <th>Dollar Volume</th>\n",
       "      <th>Price</th>\n",
       "      <th>Price ($)</th>\n",
       "      <th>YTD Change (%)</th>\n",
       "      <th>Dollar Volume ($)</th>\n",
       "      <th>PY Price ($)</th>\n",
       "    </tr>\n",
       "    <tr>\n",
       "      <th>Ticker</th>\n",
       "      <th></th>\n",
       "      <th></th>\n",
       "      <th></th>\n",
       "      <th></th>\n",
       "      <th></th>\n",
       "      <th></th>\n",
       "      <th></th>\n",
       "      <th></th>\n",
       "      <th></th>\n",
       "      <th></th>\n",
       "    </tr>\n",
       "  </thead>\n",
       "  <tbody>\n",
       "    <tr>\n",
       "      <th>JPM</th>\n",
       "      <td>JPMorgan Chase</td>\n",
       "      <td>10,886,082</td>\n",
       "      <td>5.57%</td>\n",
       "      <td>250,355</td>\n",
       "      <td>$991,722,070.20</td>\n",
       "      <td>$91.10</td>\n",
       "      <td>91.10</td>\n",
       "      <td>5.57</td>\n",
       "      <td>991,722,070.20</td>\n",
       "      <td>86.293455</td>\n",
       "    </tr>\n",
       "    <tr>\n",
       "      <th>BA</th>\n",
       "      <td>Boeing</td>\n",
       "      <td>3,535,465</td>\n",
       "      <td>54.48%</td>\n",
       "      <td>174,225</td>\n",
       "      <td>$850,243,977.85</td>\n",
       "      <td>$240.49</td>\n",
       "      <td>240.49</td>\n",
       "      <td>54.48</td>\n",
       "      <td>850,243,977.85</td>\n",
       "      <td>155.677110</td>\n",
       "    </tr>\n",
       "  </tbody>\n",
       "</table>\n",
       "</div>"
      ],
      "text/plain": [
       "               Company      Volume YTD Change Total Employees  \\\n",
       "Ticker                                                          \n",
       "JPM     JPMorgan Chase  10,886,082      5.57%         250,355   \n",
       "BA              Boeing   3,535,465     54.48%         174,225   \n",
       "\n",
       "          Dollar Volume    Price  Price ($)  YTD Change (%) Dollar Volume ($)  \\\n",
       "Ticker                                                                          \n",
       "JPM     $991,722,070.20   $91.10      91.10            5.57    991,722,070.20   \n",
       "BA      $850,243,977.85  $240.49     240.49           54.48    850,243,977.85   \n",
       "\n",
       "        PY Price ($)  \n",
       "Ticker                \n",
       "JPM        86.293455  \n",
       "BA        155.677110  "
      ]
     },
     "execution_count": 23,
     "metadata": {},
     "output_type": "execute_result"
    }
   ],
   "source": [
    "df_dowJ['PY Price ($)'] = df_dowJ.apply(lambda data: precio_viejo(data['Price ($)'],data['YTD Change (%)']), axis = 1)\n",
    "#eliminar5 = ['PY Price']\n",
    "#df_dowJ = df_dowJ.drop(eliminar5, axis = 1) he puesto esto así pq al correrlo otra vez me da errr. \n",
    "df_dowJ.head(2)"
   ]
  },
  {
   "cell_type": "code",
   "execution_count": 24,
   "id": "41f6c592",
   "metadata": {
    "scrolled": true
   },
   "outputs": [],
   "source": [
    "#ahh pero no me gustan los valores con decimales en py price\n",
    "\n",
    "df_dowJ['PYPrice'] = df_dowJ['PY Price ($)'].round(decimals = 2)\n",
    "#eliminar6 = ['PY Price ($)']\n",
    "#df_dowJ = df_dowJ.drop(eliminar6, axis = 1)"
   ]
  },
  {
   "cell_type": "code",
   "execution_count": 25,
   "id": "60baa935",
   "metadata": {
    "scrolled": true
   },
   "outputs": [],
   "source": [
    "eliminar8 = ['YTD Change']\n",
    "df_dowJ = df_dowJ.drop(eliminar8, axis = 1)"
   ]
  },
  {
   "cell_type": "code",
   "execution_count": 26,
   "id": "aff7818f",
   "metadata": {
    "scrolled": true
   },
   "outputs": [
    {
     "data": {
      "text/html": [
       "<div>\n",
       "<style scoped>\n",
       "    .dataframe tbody tr th:only-of-type {\n",
       "        vertical-align: middle;\n",
       "    }\n",
       "\n",
       "    .dataframe tbody tr th {\n",
       "        vertical-align: top;\n",
       "    }\n",
       "\n",
       "    .dataframe thead th {\n",
       "        text-align: right;\n",
       "    }\n",
       "</style>\n",
       "<table border=\"1\" class=\"dataframe\">\n",
       "  <thead>\n",
       "    <tr style=\"text-align: right;\">\n",
       "      <th></th>\n",
       "      <th>Company</th>\n",
       "      <th>Volume</th>\n",
       "      <th>Total Employees</th>\n",
       "      <th>Price ($)</th>\n",
       "      <th>YTD Change (%)</th>\n",
       "      <th>Dollar Volume ($)</th>\n",
       "      <th>PY Price ($)</th>\n",
       "    </tr>\n",
       "    <tr>\n",
       "      <th>Ticker</th>\n",
       "      <th></th>\n",
       "      <th></th>\n",
       "      <th></th>\n",
       "      <th></th>\n",
       "      <th></th>\n",
       "      <th></th>\n",
       "      <th></th>\n",
       "    </tr>\n",
       "  </thead>\n",
       "  <tbody>\n",
       "    <tr>\n",
       "      <th>JPM</th>\n",
       "      <td>JPMorgan Chase</td>\n",
       "      <td>10,886,082</td>\n",
       "      <td>250,355</td>\n",
       "      <td>91.10</td>\n",
       "      <td>5.57</td>\n",
       "      <td>991,722,070.20</td>\n",
       "      <td>86.29</td>\n",
       "    </tr>\n",
       "    <tr>\n",
       "      <th>BA</th>\n",
       "      <td>Boeing</td>\n",
       "      <td>3,535,465</td>\n",
       "      <td>174,225</td>\n",
       "      <td>240.49</td>\n",
       "      <td>54.48</td>\n",
       "      <td>850,243,977.85</td>\n",
       "      <td>155.68</td>\n",
       "    </tr>\n",
       "    <tr>\n",
       "      <th>MSFT</th>\n",
       "      <td>Microsoft</td>\n",
       "      <td>11,478,382</td>\n",
       "      <td>120,849</td>\n",
       "      <td>73.05</td>\n",
       "      <td>17.56</td>\n",
       "      <td>838,495,805.10</td>\n",
       "      <td>62.14</td>\n",
       "    </tr>\n",
       "    <tr>\n",
       "      <th>HD</th>\n",
       "      <td>Home Depot</td>\n",
       "      <td>5,368,723</td>\n",
       "      <td>385,000</td>\n",
       "      <td>149.84</td>\n",
       "      <td>11.75</td>\n",
       "      <td>804,449,454.32</td>\n",
       "      <td>134.09</td>\n",
       "    </tr>\n",
       "    <tr>\n",
       "      <th>V</th>\n",
       "      <td>Visa</td>\n",
       "      <td>7,135,312</td>\n",
       "      <td>11,300</td>\n",
       "      <td>103.77</td>\n",
       "      <td>33.00</td>\n",
       "      <td>740,431,326.24</td>\n",
       "      <td>78.02</td>\n",
       "    </tr>\n",
       "  </tbody>\n",
       "</table>\n",
       "</div>"
      ],
      "text/plain": [
       "               Company      Volume Total Employees  Price ($)  YTD Change (%)  \\\n",
       "Ticker                                                                          \n",
       "JPM     JPMorgan Chase  10,886,082         250,355      91.10            5.57   \n",
       "BA              Boeing   3,535,465         174,225     240.49           54.48   \n",
       "MSFT         Microsoft  11,478,382         120,849      73.05           17.56   \n",
       "HD          Home Depot   5,368,723         385,000     149.84           11.75   \n",
       "V                 Visa   7,135,312          11,300     103.77           33.00   \n",
       "\n",
       "       Dollar Volume ($)  PY Price ($)  \n",
       "Ticker                                  \n",
       "JPM       991,722,070.20         86.29  \n",
       "BA        850,243,977.85        155.68  \n",
       "MSFT      838,495,805.10         62.14  \n",
       "HD        804,449,454.32        134.09  \n",
       "V         740,431,326.24         78.02  "
      ]
     },
     "execution_count": 26,
     "metadata": {},
     "output_type": "execute_result"
    }
   ],
   "source": [
    "#que problemon con los eliminar, al reiniciar el kernel, es una pereza. \n",
    "\n",
    "eliminar9 = ['Dollar Volume','Price','PY Price ($)']\n",
    "df_dowJ = df_dowJ.drop(eliminar9, axis = 1)\n",
    "\n",
    "df_dowJ.rename(columns = {'PYPrice':'PY Price ($)'}, inplace = True)\n",
    "\n",
    "df_dowJ.head() "
   ]
  },
  {
   "cell_type": "code",
   "execution_count": 27,
   "id": "7d12b4b2",
   "metadata": {},
   "outputs": [
    {
     "data": {
      "text/plain": [
       "Company              JPMorgan Chase\n",
       "Volume                   10,886,082\n",
       "Total Employees             250,355\n",
       "Price ($)                      91.1\n",
       "YTD Change (%)                 5.57\n",
       "Dollar Volume ($)    991,722,070.20\n",
       "PY Price ($)                  86.29\n",
       "Name: JPM, dtype: object"
      ]
     },
     "execution_count": 27,
     "metadata": {},
     "output_type": "execute_result"
    }
   ],
   "source": [
    "#a ver\n",
    "\n",
    "df_dowJ.loc['JPM',:] #bien dudas que me quedaron: por que no pude poner dollar value en float? "
   ]
  },
  {
   "cell_type": "markdown",
   "id": "d994e17d",
   "metadata": {},
   "source": [
    "# Aplica el conocimiento del groupby en tu dataframe y saca algunas conclusiones (practica el *story telling*)\n",
    "\n",
    "**BONUS** Plotea algunas de las conclusiones que hayas podido extraer"
   ]
  },
  {
   "cell_type": "code",
   "execution_count": 28,
   "id": "7fa8acb0",
   "metadata": {},
   "outputs": [
    {
     "data": {
      "text/html": [
       "<div>\n",
       "<style scoped>\n",
       "    .dataframe tbody tr th:only-of-type {\n",
       "        vertical-align: middle;\n",
       "    }\n",
       "\n",
       "    .dataframe tbody tr th {\n",
       "        vertical-align: top;\n",
       "    }\n",
       "\n",
       "    .dataframe thead th {\n",
       "        text-align: right;\n",
       "    }\n",
       "</style>\n",
       "<table border=\"1\" class=\"dataframe\">\n",
       "  <thead>\n",
       "    <tr style=\"text-align: right;\">\n",
       "      <th></th>\n",
       "      <th>Ticker</th>\n",
       "      <th>Company</th>\n",
       "      <th>Volume</th>\n",
       "      <th>Total Employees</th>\n",
       "      <th>Price ($)</th>\n",
       "      <th>YTD Change (%)</th>\n",
       "      <th>Dollar Volume ($)</th>\n",
       "      <th>PY Price ($)</th>\n",
       "    </tr>\n",
       "  </thead>\n",
       "  <tbody>\n",
       "    <tr>\n",
       "      <th>0</th>\n",
       "      <td>JPM</td>\n",
       "      <td>JPMorgan Chase</td>\n",
       "      <td>10,886,082</td>\n",
       "      <td>250,355</td>\n",
       "      <td>91.10</td>\n",
       "      <td>5.57</td>\n",
       "      <td>991,722,070.20</td>\n",
       "      <td>86.29</td>\n",
       "    </tr>\n",
       "    <tr>\n",
       "      <th>1</th>\n",
       "      <td>BA</td>\n",
       "      <td>Boeing</td>\n",
       "      <td>3,535,465</td>\n",
       "      <td>174,225</td>\n",
       "      <td>240.49</td>\n",
       "      <td>54.48</td>\n",
       "      <td>850,243,977.85</td>\n",
       "      <td>155.68</td>\n",
       "    </tr>\n",
       "  </tbody>\n",
       "</table>\n",
       "</div>"
      ],
      "text/plain": [
       "  Ticker         Company      Volume Total Employees  Price ($)  \\\n",
       "0    JPM  JPMorgan Chase  10,886,082         250,355      91.10   \n",
       "1     BA          Boeing   3,535,465         174,225     240.49   \n",
       "\n",
       "   YTD Change (%) Dollar Volume ($)  PY Price ($)  \n",
       "0            5.57    991,722,070.20         86.29  \n",
       "1           54.48    850,243,977.85        155.68  "
      ]
     },
     "execution_count": 28,
     "metadata": {},
     "output_type": "execute_result"
    }
   ],
   "source": [
    "#reseteo de indices\n",
    "df_dowJ.reset_index(inplace=True)\n",
    "df_dowJ.head(2)"
   ]
  },
  {
   "cell_type": "code",
   "execution_count": 29,
   "id": "0b31b3fb",
   "metadata": {},
   "outputs": [
    {
     "data": {
      "text/plain": [
       "Price ($)  Total Employees\n",
       "24.44      333,000           -22.66\n",
       "31.48      71,883              4.17\n",
       "33.50      96,500              3.14\n",
       "34.73      106,700            -4.25\n",
       "45.45      146,200             9.62\n",
       "48.51      162,000            -9.12\n",
       "52.73      62,600              3.74\n",
       "63.12      70,000              7.22\n",
       "73.05      120,849            17.56\n",
       "76.45      83,700            -15.30\n",
       "78.77      2,200,000          13.96\n",
       "82.24      52,000             12.04\n",
       "85.42      62,500             15.31\n",
       "91.10      250,355             5.57\n",
       "92.32      105,000             9.80\n",
       "102.57     195,000            -1.58\n",
       "103.77     11,300             33.00\n",
       "107.86     61,500             -8.36\n",
       "116.01     95,400             25.09\n",
       "118.70     197,200             8.28\n",
       "123.01     30,000              0.48\n",
       "132.21     127,100            14.76\n",
       "143.14     386,558           -13.77\n",
       "149.84     385,000            11.75\n",
       "159.38     375,000            30.94\n",
       "162.91     116,000            40.66\n",
       "196.73     230,000            22.93\n",
       "202.92     89,800             13.64\n",
       "219.96     33,300             -8.14\n",
       "240.49     174,225            54.48\n",
       "Name: YTD Change (%), dtype: float64"
      ]
     },
     "execution_count": 29,
     "metadata": {},
     "output_type": "execute_result"
    }
   ],
   "source": [
    "df_dowJ.groupby(['Price ($)','Total Employees'])['YTD Change (%)'].mean()"
   ]
  },
  {
   "cell_type": "code",
   "execution_count": 30,
   "id": "e4e6b2a3",
   "metadata": {},
   "outputs": [],
   "source": [
    "import seaborn as sns"
   ]
  },
  {
   "cell_type": "code",
   "execution_count": 31,
   "id": "c9a0a26f",
   "metadata": {},
   "outputs": [
    {
     "data": {
      "image/png": "[encoded data removed]",
      "text/plain": [
       "<Figure size 432x288 with 1 Axes>"
      ]
     },
     "metadata": {
      "needs_background": "light"
     },
     "output_type": "display_data"
    }
   ],
   "source": [
    "sns.barplot(data = df_dowJ, x ='Ticker', y = 'YTD Change (%)');"
   ]
  },
  {
   "cell_type": "code",
   "execution_count": 32,
   "id": "4114e949",
   "metadata": {},
   "outputs": [
    {
     "data": {
      "text/html": [
       "<div>\n",
       "<style scoped>\n",
       "    .dataframe tbody tr th:only-of-type {\n",
       "        vertical-align: middle;\n",
       "    }\n",
       "\n",
       "    .dataframe tbody tr th {\n",
       "        vertical-align: top;\n",
       "    }\n",
       "\n",
       "    .dataframe thead th {\n",
       "        text-align: right;\n",
       "    }\n",
       "</style>\n",
       "<table border=\"1\" class=\"dataframe\">\n",
       "  <thead>\n",
       "    <tr style=\"text-align: right;\">\n",
       "      <th></th>\n",
       "      <th>Ticker</th>\n",
       "      <th>Company</th>\n",
       "      <th>Volume</th>\n",
       "      <th>Total Employees</th>\n",
       "      <th>Price ($)</th>\n",
       "      <th>YTD Change (%)</th>\n",
       "      <th>Dollar Volume ($)</th>\n",
       "      <th>PY Price ($)</th>\n",
       "    </tr>\n",
       "  </thead>\n",
       "  <tbody>\n",
       "    <tr>\n",
       "      <th>1</th>\n",
       "      <td>BA</td>\n",
       "      <td>Boeing</td>\n",
       "      <td>3,535,465</td>\n",
       "      <td>174,225</td>\n",
       "      <td>240.49</td>\n",
       "      <td>54.48</td>\n",
       "      <td>850,243,977.85</td>\n",
       "      <td>155.68</td>\n",
       "    </tr>\n",
       "    <tr>\n",
       "      <th>3</th>\n",
       "      <td>HD</td>\n",
       "      <td>Home Depot</td>\n",
       "      <td>5,368,723</td>\n",
       "      <td>385,000</td>\n",
       "      <td>149.84</td>\n",
       "      <td>11.75</td>\n",
       "      <td>804,449,454.32</td>\n",
       "      <td>134.09</td>\n",
       "    </tr>\n",
       "    <tr>\n",
       "      <th>12</th>\n",
       "      <td>MCD</td>\n",
       "      <td>McDonaldÕs</td>\n",
       "      <td>3,283,371</td>\n",
       "      <td>375,000</td>\n",
       "      <td>159.38</td>\n",
       "      <td>30.94</td>\n",
       "      <td>523,303,669.98</td>\n",
       "      <td>121.72</td>\n",
       "    </tr>\n",
       "    <tr>\n",
       "      <th>13</th>\n",
       "      <td>GS</td>\n",
       "      <td>Goldman Sachs</td>\n",
       "      <td>2,369,131</td>\n",
       "      <td>33,300</td>\n",
       "      <td>219.96</td>\n",
       "      <td>-8.14</td>\n",
       "      <td>521,114,054.76</td>\n",
       "      <td>239.45</td>\n",
       "    </tr>\n",
       "    <tr>\n",
       "      <th>16</th>\n",
       "      <td>JNJ</td>\n",
       "      <td>Johnson &amp; Johnson</td>\n",
       "      <td>3,277,875</td>\n",
       "      <td>127,100</td>\n",
       "      <td>132.21</td>\n",
       "      <td>14.76</td>\n",
       "      <td>433,367,853.75</td>\n",
       "      <td>115.21</td>\n",
       "    </tr>\n",
       "  </tbody>\n",
       "</table>\n",
       "</div>"
      ],
      "text/plain": [
       "   Ticker            Company     Volume Total Employees  Price ($)  \\\n",
       "1      BA             Boeing  3,535,465         174,225     240.49   \n",
       "3      HD         Home Depot  5,368,723         385,000     149.84   \n",
       "12    MCD         McDonaldÕs  3,283,371         375,000     159.38   \n",
       "13     GS      Goldman Sachs  2,369,131          33,300     219.96   \n",
       "16    JNJ  Johnson & Johnson  3,277,875         127,100     132.21   \n",
       "\n",
       "    YTD Change (%) Dollar Volume ($)  PY Price ($)  \n",
       "1            54.48    850,243,977.85        155.68  \n",
       "3            11.75    804,449,454.32        134.09  \n",
       "12           30.94    523,303,669.98        121.72  \n",
       "13           -8.14    521,114,054.76        239.45  \n",
       "16           14.76    433,367,853.75        115.21  "
      ]
     },
     "execution_count": 32,
     "metadata": {},
     "output_type": "execute_result"
    }
   ],
   "source": [
    "#si pero esto la verdad no me ayuda mucho por el ticker. \n",
    "\n",
    "df_dowB = df_dowJ[df_dowJ['Price ($)']> 120]\n",
    "df_dowB.head()"
   ]
  },
  {
   "cell_type": "code",
   "execution_count": 33,
   "id": "a108b793",
   "metadata": {},
   "outputs": [
    {
     "data": {
      "image/png": "[encoded data removed]",
      "text/plain": [
       "<Figure size 432x288 with 1 Axes>"
      ]
     },
     "metadata": {
      "needs_background": "light"
     },
     "output_type": "display_data"
    }
   ],
   "source": [
    "sns.barplot(data = df_dowB, x ='Ticker', y = 'YTD Change (%)');"
   ]
  },
  {
   "cell_type": "code",
   "execution_count": 34,
   "id": "98e53aad",
   "metadata": {},
   "outputs": [
    {
     "data": {
      "text/html": [
       "<div>\n",
       "<style scoped>\n",
       "    .dataframe tbody tr th:only-of-type {\n",
       "        vertical-align: middle;\n",
       "    }\n",
       "\n",
       "    .dataframe tbody tr th {\n",
       "        vertical-align: top;\n",
       "    }\n",
       "\n",
       "    .dataframe thead th {\n",
       "        text-align: right;\n",
       "    }\n",
       "</style>\n",
       "<table border=\"1\" class=\"dataframe\">\n",
       "  <thead>\n",
       "    <tr style=\"text-align: right;\">\n",
       "      <th></th>\n",
       "      <th>Ticker</th>\n",
       "      <th>Company</th>\n",
       "      <th>Volume</th>\n",
       "      <th>Total Employees</th>\n",
       "      <th>Price ($)</th>\n",
       "      <th>YTD Change (%)</th>\n",
       "      <th>Dollar Volume ($)</th>\n",
       "      <th>PY Price ($)</th>\n",
       "    </tr>\n",
       "  </thead>\n",
       "  <tbody>\n",
       "    <tr>\n",
       "      <th>9</th>\n",
       "      <td>GE</td>\n",
       "      <td>General Electric</td>\n",
       "      <td>23,910,062</td>\n",
       "      <td>333,000</td>\n",
       "      <td>24.44</td>\n",
       "      <td>-22.66</td>\n",
       "      <td>584,361,915.28</td>\n",
       "      <td>31.60</td>\n",
       "    </tr>\n",
       "    <tr>\n",
       "      <th>10</th>\n",
       "      <td>INTC</td>\n",
       "      <td>Intel</td>\n",
       "      <td>15,843,668</td>\n",
       "      <td>106,700</td>\n",
       "      <td>34.73</td>\n",
       "      <td>-4.25</td>\n",
       "      <td>550,250,589.64</td>\n",
       "      <td>36.27</td>\n",
       "    </tr>\n",
       "    <tr>\n",
       "      <th>14</th>\n",
       "      <td>CSCO</td>\n",
       "      <td>Cisco</td>\n",
       "      <td>16,362,658</td>\n",
       "      <td>71,883</td>\n",
       "      <td>31.48</td>\n",
       "      <td>4.17</td>\n",
       "      <td>515,096,473.84</td>\n",
       "      <td>30.22</td>\n",
       "    </tr>\n",
       "    <tr>\n",
       "      <th>19</th>\n",
       "      <td>PFE</td>\n",
       "      <td>Pfizer</td>\n",
       "      <td>12,224,026</td>\n",
       "      <td>96,500</td>\n",
       "      <td>33.50</td>\n",
       "      <td>3.14</td>\n",
       "      <td>409,504,871.00</td>\n",
       "      <td>32.48</td>\n",
       "    </tr>\n",
       "    <tr>\n",
       "      <th>22</th>\n",
       "      <td>KO</td>\n",
       "      <td>Coca-Cola</td>\n",
       "      <td>7,762,162</td>\n",
       "      <td>146,200</td>\n",
       "      <td>45.45</td>\n",
       "      <td>9.62</td>\n",
       "      <td>352,790,262.90</td>\n",
       "      <td>41.46</td>\n",
       "    </tr>\n",
       "  </tbody>\n",
       "</table>\n",
       "</div>"
      ],
      "text/plain": [
       "   Ticker           Company      Volume Total Employees  Price ($)  \\\n",
       "9      GE  General Electric  23,910,062         333,000      24.44   \n",
       "10   INTC             Intel  15,843,668         106,700      34.73   \n",
       "14   CSCO             Cisco  16,362,658          71,883      31.48   \n",
       "19    PFE            Pfizer  12,224,026          96,500      33.50   \n",
       "22     KO         Coca-Cola   7,762,162         146,200      45.45   \n",
       "\n",
       "    YTD Change (%) Dollar Volume ($)  PY Price ($)  \n",
       "9           -22.66    584,361,915.28         31.60  \n",
       "10           -4.25    550,250,589.64         36.27  \n",
       "14            4.17    515,096,473.84         30.22  \n",
       "19            3.14    409,504,871.00         32.48  \n",
       "22            9.62    352,790,262.90         41.46  "
      ]
     },
     "execution_count": 34,
     "metadata": {},
     "output_type": "execute_result"
    }
   ],
   "source": [
    "df_dowS = df_dowJ[df_dowJ['Price ($)']< 50]\n",
    "df_dowS.head()"
   ]
  },
  {
   "cell_type": "code",
   "execution_count": 35,
   "id": "6f35389a",
   "metadata": {},
   "outputs": [
    {
     "data": {
      "image/png": "[encoded data removed]",
      "text/plain": [
       "<Figure size 432x288 with 1 Axes>"
      ]
     },
     "metadata": {
      "needs_background": "light"
     },
     "output_type": "display_data"
    }
   ],
   "source": [
    "sns.barplot(data = df_dowS, x ='Ticker', y = 'YTD Change (%)');"
   ]
  },
  {
   "cell_type": "code",
   "execution_count": 36,
   "id": "38a2cd2e",
   "metadata": {},
   "outputs": [],
   "source": [
    "df_dowJ.to_csv('DowClean.csv')"
   ]
  },
  {
   "cell_type": "markdown",
   "id": "9bb30601",
   "metadata": {},
   "source": [
    "#PARA cambiar columna \n",
    "\n",
    "#df_dowJ = dj_dowJ.astype({'nombre columna':'str'}) #dato que necesitas transormar"
   ]
  }
 ],
 "metadata": {
  "kernelspec": {
   "display_name": "Python 3 (ipykernel)",
   "language": "python",
   "name": "python3"
  },
  "language_info": {
   "codemirror_mode": {
    "name": "ipython",
    "version": 3
   },
   "file_extension": ".py",
   "mimetype": "text/x-python",
   "name": "python",
   "nbconvert_exporter": "python",
   "pygments_lexer": "ipython3",
   "version": "3.9.7"
  },
  "toc": {
   "base_numbering": 1,
   "nav_menu": {},
   "number_sections": true,
   "sideBar": true,
   "skip_h1_title": false,
   "title_cell": "Table of Contents",
   "title_sidebar": "Contents",
   "toc_cell": false,
   "toc_position": {},
   "toc_section_display": true,
   "toc_window_display": false
  }
 },
 "nbformat": 4,
 "nbformat_minor": 5
}
