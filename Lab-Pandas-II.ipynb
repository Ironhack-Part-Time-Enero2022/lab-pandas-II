{
 "cells": [
  {
   "cell_type": "markdown",
   "id": "d7dc2feb",
   "metadata": {},
   "source": [
    "# Carga un dataset de la libreria `pydataset` \n",
    "\n",
    "Puedes elegir la que más te guste! \n",
    "\n",
    "Hint: ten en cuenta que os pediremos que hagais algunas transformaciones usando `apply` y `groupby`! "
   ]
  },
  {
   "cell_type": "code",
   "execution_count": 1,
   "id": "6d874175",
   "metadata": {},
   "outputs": [],
   "source": [
    "import numpy as np\n",
    "import pandas as pd\n",
    "from datetime import datetime as dt\n"
   ]
  },
  {
   "cell_type": "markdown",
   "id": "ed91f5f9",
   "metadata": {},
   "source": [
    "# Explora el dataset elegido \n",
    "\n",
    "- Cuantas columnas tenemos\n",
    "- Cuantos nulos\n",
    "- Haz una descripción\n",
    "- ¿Puedes homogeneizar el nombre de las columnas?\n",
    "\n",
    "Tómate tu tiempo para entender el dataframe y la información que hay en el. Y escribe brevemente las conclusiones principales de el dataset elegido. \n",
    "\n",
    "**No te olvides de guardar tu nuevo csv limpio**"
   ]
  },
  {
   "cell_type": "code",
   "execution_count": 2,
   "id": "0fc15566",
   "metadata": {},
   "outputs": [],
   "source": [
    "df_covid_uk = pd.read_csv('data/region_2022-02-03.csv')\n",
    "\n",
    "# datos obtenidos de https://coronavirus.data.gov.uk/details/download"
   ]
  },
  {
   "cell_type": "code",
   "execution_count": 3,
   "id": "06afaa15",
   "metadata": {},
   "outputs": [],
   "source": [
    "def describing_df(df,name):\n",
    "    \n",
    "    print(f\"\\n\\n DESCRIPCION DEL DATA FRAME: {name}\",'\\n\\n--- Pequeña muestra de datos del data frame ---',)\n",
    "    display(df.sample(5))\n",
    "    \n",
    "    print('--- Descripcion de los principales estadisticos del data frame por columnas ---\\n\\n',\n",
    "          df.describe(percentiles=[]).T, )\n",
    "    \n",
    "    print('\\n\\n--- Tipologia de datos del data frame ---\\n\\n',\n",
    "          df.dtypes,)\n",
    "    \n",
    "    print('\\n\\n--- Porcentaje de nulos en cada uno de los campos ---',)\n",
    "    df_null_perc = (df.isnull().sum() * 100) / df.shape[0]\n",
    "    display(df_null_perc)\n",
    "    \n",
    "    \n",
    "    print(f'\\n\\n--- El Data Frame {name} tiene {df.shape[0]} columna/s y {df.shape[1]} fila/s---',)\n",
    "    \n",
    "\n",
    "    "
   ]
  },
  {
   "cell_type": "code",
   "execution_count": 4,
   "id": "3d28e9bc",
   "metadata": {},
   "outputs": [
    {
     "name": "stdout",
     "output_type": "stream",
     "text": [
      "\n",
      "\n",
      " DESCRIPCION DEL DATA FRAME: Covid Data from UK \n",
      "\n",
      "--- Pequeña muestra de datos del data frame ---\n"
     ]
    },
    {
     "data": {
      "text/html": [
       "<div>\n",
       "<style scoped>\n",
       "    .dataframe tbody tr th:only-of-type {\n",
       "        vertical-align: middle;\n",
       "    }\n",
       "\n",
       "    .dataframe tbody tr th {\n",
       "        vertical-align: top;\n",
       "    }\n",
       "\n",
       "    .dataframe thead th {\n",
       "        text-align: right;\n",
       "    }\n",
       "</style>\n",
       "<table border=\"1\" class=\"dataframe\">\n",
       "  <thead>\n",
       "    <tr style=\"text-align: right;\">\n",
       "      <th></th>\n",
       "      <th>areaCode</th>\n",
       "      <th>areaName</th>\n",
       "      <th>areaType</th>\n",
       "      <th>date</th>\n",
       "      <th>cumCasesByPublishDate</th>\n",
       "      <th>cumDeaths28DaysByPublishDate</th>\n",
       "      <th>cumPeopleVaccinatedFirstDoseByPublishDate</th>\n",
       "      <th>cumPeopleVaccinatedSecondDoseByPublishDate</th>\n",
       "      <th>cumPeopleVaccinatedThirdInjectionByPublishDate</th>\n",
       "    </tr>\n",
       "  </thead>\n",
       "  <tbody>\n",
       "    <tr>\n",
       "      <th>3625</th>\n",
       "      <td>E12000006</td>\n",
       "      <td>East of England</td>\n",
       "      <td>region</td>\n",
       "      <td>2021-03-10</td>\n",
       "      <td>375803</td>\n",
       "      <td>13196.0</td>\n",
       "      <td>NaN</td>\n",
       "      <td>NaN</td>\n",
       "      <td>NaN</td>\n",
       "    </tr>\n",
       "    <tr>\n",
       "      <th>3056</th>\n",
       "      <td>E12000005</td>\n",
       "      <td>West Midlands</td>\n",
       "      <td>region</td>\n",
       "      <td>2020-12-10</td>\n",
       "      <td>179456</td>\n",
       "      <td>6860.0</td>\n",
       "      <td>NaN</td>\n",
       "      <td>NaN</td>\n",
       "      <td>NaN</td>\n",
       "    </tr>\n",
       "    <tr>\n",
       "      <th>5582</th>\n",
       "      <td>E12000009</td>\n",
       "      <td>South West</td>\n",
       "      <td>region</td>\n",
       "      <td>2021-03-30</td>\n",
       "      <td>218161</td>\n",
       "      <td>6762.0</td>\n",
       "      <td>NaN</td>\n",
       "      <td>NaN</td>\n",
       "      <td>NaN</td>\n",
       "    </tr>\n",
       "    <tr>\n",
       "      <th>380</th>\n",
       "      <td>E12000001</td>\n",
       "      <td>North East</td>\n",
       "      <td>region</td>\n",
       "      <td>2021-01-19</td>\n",
       "      <td>152113</td>\n",
       "      <td>4682.0</td>\n",
       "      <td>NaN</td>\n",
       "      <td>NaN</td>\n",
       "      <td>NaN</td>\n",
       "    </tr>\n",
       "    <tr>\n",
       "      <th>3716</th>\n",
       "      <td>E12000006</td>\n",
       "      <td>East of England</td>\n",
       "      <td>region</td>\n",
       "      <td>2020-12-09</td>\n",
       "      <td>97789</td>\n",
       "      <td>5152.0</td>\n",
       "      <td>NaN</td>\n",
       "      <td>NaN</td>\n",
       "      <td>NaN</td>\n",
       "    </tr>\n",
       "  </tbody>\n",
       "</table>\n",
       "</div>"
      ],
      "text/plain": [
       "       areaCode         areaName areaType        date  cumCasesByPublishDate  \\\n",
       "3625  E12000006  East of England   region  2021-03-10                 375803   \n",
       "3056  E12000005    West Midlands   region  2020-12-10                 179456   \n",
       "5582  E12000009       South West   region  2021-03-30                 218161   \n",
       "380   E12000001       North East   region  2021-01-19                 152113   \n",
       "3716  E12000006  East of England   region  2020-12-09                  97789   \n",
       "\n",
       "      cumDeaths28DaysByPublishDate  cumPeopleVaccinatedFirstDoseByPublishDate  \\\n",
       "3625                       13196.0                                        NaN   \n",
       "3056                        6860.0                                        NaN   \n",
       "5582                        6762.0                                        NaN   \n",
       "380                         4682.0                                        NaN   \n",
       "3716                        5152.0                                        NaN   \n",
       "\n",
       "      cumPeopleVaccinatedSecondDoseByPublishDate  \\\n",
       "3625                                         NaN   \n",
       "3056                                         NaN   \n",
       "5582                                         NaN   \n",
       "380                                          NaN   \n",
       "3716                                         NaN   \n",
       "\n",
       "      cumPeopleVaccinatedThirdInjectionByPublishDate  \n",
       "3625                                             NaN  \n",
       "3056                                             NaN  \n",
       "5582                                             NaN  \n",
       "380                                              NaN  \n",
       "3716                                             NaN  "
      ]
     },
     "metadata": {},
     "output_type": "display_data"
    },
    {
     "name": "stdout",
     "output_type": "stream",
     "text": [
      "--- Descripcion de los principales estadisticos del data frame por columnas ---\n",
      "\n",
      "                                                  count          mean  \\\n",
      "cumCasesByPublishDate                           5931.0  4.198607e+05   \n",
      "cumDeaths28DaysByPublishDate                    4821.0  1.061560e+04   \n",
      "cumPeopleVaccinatedFirstDoseByPublishDate          9.0  4.793661e+06   \n",
      "cumPeopleVaccinatedSecondDoseByPublishDate         9.0  4.466490e+06   \n",
      "cumPeopleVaccinatedThirdInjectionByPublishDate     9.0  3.451755e+06   \n",
      "\n",
      "                                                         std        min  \\\n",
      "cumCasesByPublishDate                           4.281132e+05     3913.0   \n",
      "cumDeaths28DaysByPublishDate                    5.128239e+03     1876.0   \n",
      "cumPeopleVaccinatedFirstDoseByPublishDate       1.517759e+06  2076170.0   \n",
      "cumPeopleVaccinatedSecondDoseByPublishDate      1.405884e+06  1938974.0   \n",
      "cumPeopleVaccinatedThirdInjectionByPublishDate  1.079398e+06  1517243.0   \n",
      "\n",
      "                                                      50%        max  \n",
      "cumCasesByPublishDate                            327619.0  2416122.0  \n",
      "cumDeaths28DaysByPublishDate                      10625.0    22323.0  \n",
      "cumPeopleVaccinatedFirstDoseByPublishDate       4587626.0  7287708.0  \n",
      "cumPeopleVaccinatedSecondDoseByPublishDate      4318433.0  6835488.0  \n",
      "cumPeopleVaccinatedThirdInjectionByPublishDate  3552306.0  5503833.0  \n",
      "\n",
      "\n",
      "--- Tipologia de datos del data frame ---\n",
      "\n",
      " areaCode                                           object\n",
      "areaName                                           object\n",
      "areaType                                           object\n",
      "date                                               object\n",
      "cumCasesByPublishDate                               int64\n",
      "cumDeaths28DaysByPublishDate                      float64\n",
      "cumPeopleVaccinatedFirstDoseByPublishDate         float64\n",
      "cumPeopleVaccinatedSecondDoseByPublishDate        float64\n",
      "cumPeopleVaccinatedThirdInjectionByPublishDate    float64\n",
      "dtype: object\n",
      "\n",
      "\n",
      "--- Porcentaje de nulos en cada uno de los campos ---\n"
     ]
    },
    {
     "data": {
      "text/plain": [
       "areaCode                                           0.000000\n",
       "areaName                                           0.000000\n",
       "areaType                                           0.000000\n",
       "date                                               0.000000\n",
       "cumCasesByPublishDate                              0.000000\n",
       "cumDeaths28DaysByPublishDate                      18.715225\n",
       "cumPeopleVaccinatedFirstDoseByPublishDate         99.848255\n",
       "cumPeopleVaccinatedSecondDoseByPublishDate        99.848255\n",
       "cumPeopleVaccinatedThirdInjectionByPublishDate    99.848255\n",
       "dtype: float64"
      ]
     },
     "metadata": {},
     "output_type": "display_data"
    },
    {
     "name": "stdout",
     "output_type": "stream",
     "text": [
      "\n",
      "\n",
      "--- El Data Frame Covid Data from UK tiene 5931 columna/s y 9 fila/s---\n"
     ]
    }
   ],
   "source": [
    "describing_df(df_covid_uk,'Covid Data from UK')"
   ]
  },
  {
   "cell_type": "raw",
   "id": "76952c1e",
   "metadata": {},
   "source": [
    "Los datos tratan sobre Datos de Covid en el Reino Unido .\n",
    "\n",
    "Estos estan a nivel de Region y fecha. Las metricas de las que dispone son todas acumuladas:\n",
    "    - Casos acumulados\n",
    "    - Muertes acumuladas\n",
    "    - Vacunados de primera dosis acumulados\n",
    "    - Vacunados de segunda dosis acumulados\n",
    "    - Vacunados de tercera dosis acumulados"
   ]
  },
  {
   "cell_type": "markdown",
   "id": "f492d325",
   "metadata": {},
   "source": [
    "# Crea alguna función y aplícala a tu dataframe usando `apply`"
   ]
  },
  {
   "cell_type": "raw",
   "id": "3c6bea44",
   "metadata": {},
   "source": [
    "Creo una funcion para darle formato de fecha a la fecha y poder generar un campo con el año y el mes."
   ]
  },
  {
   "cell_type": "code",
   "execution_count": 5,
   "id": "fee13294",
   "metadata": {},
   "outputs": [],
   "source": [
    "def str2dt(string_):\n",
    "    from datetime import datetime\n",
    "    return datetime.strptime(string_, '%Y-%m-%d')\n",
    "\n",
    "def ym2num(n):\n",
    "    n = str(n)\n",
    "    n = int(n[:4]+n[5:])\n",
    "    \n",
    "    return n\n"
   ]
  },
  {
   "cell_type": "code",
   "execution_count": 6,
   "id": "05c1dd83",
   "metadata": {},
   "outputs": [],
   "source": [
    "\n",
    "\n",
    "#reemplazo los nan por 0, tengo la casuistica de que sea una string, aplicando padnas y numpy\n",
    "df_covid_uk.fillna(0).replace('NaN',0).replace(np.nan, 0)\n",
    "\n",
    "#calculo el año-mes tanto numerico como en fecha\n",
    "df_covid_uk['date_f'] = df_covid_uk['date'].apply(str2dt)\n",
    "df_covid_uk['month_year'] = df_covid_uk['date_f'].dt.to_period('M')\n",
    "df_covid_uk['month_year_num'] = df_covid_uk['month_year'].apply(ym2num)\n",
    "\n"
   ]
  },
  {
   "cell_type": "markdown",
   "id": "d994e17d",
   "metadata": {},
   "source": [
    "# Aplica el conocimiento del groupby en tu dataframe y saca algunas conclusiones (practica el *story telling*)\n",
    "\n",
    "**BONUS** Plotea algunas de las conclusiones que hayas podido extraer"
   ]
  },
  {
   "cell_type": "code",
   "execution_count": 7,
   "id": "0b31b3fb",
   "metadata": {},
   "outputs": [],
   "source": [
    "# dropeo las columnas que no me interesan para el group by\n",
    "df_covid_uk = df_covid_uk.drop(['areaCode','areaType','date','date_f'], axis = 1)\n"
   ]
  },
  {
   "cell_type": "code",
   "execution_count": 8,
   "id": "4f7b3bcc",
   "metadata": {},
   "outputs": [],
   "source": [
    "#hago un group by por el maximo para coger el acumulado de todo el mes\n",
    "df_covid_uk_month = df_covid_uk.groupby([\"areaName\", \"month_year\",\"month_year_num\"]).max()\n",
    "\n",
    "# reseteo indices\n",
    "df_covid_uk_month.reset_index([\"areaName\", \"month_year\",\"month_year_num\"], inplace = True)\n"
   ]
  },
  {
   "cell_type": "code",
   "execution_count": 19,
   "id": "42f56f38",
   "metadata": {},
   "outputs": [],
   "source": [
    "# calculo el actual para cada mes para ello hare un DF nuevo con el mes desplazado, hare un\n",
    "# join y restare el mes anterior.\n",
    "\n",
    "def sbtr_month(ym):\n",
    "    ym_str = str(ym)\n",
    "    month_str = ym_str[4:]\n",
    "    year_str = ym_str[:4]\n",
    "    month = int(month_str)\n",
    "    year = int(year_str)\n",
    "    \n",
    "    if month == 1:\n",
    "        ym_1 = int(str(year-1)+'12')\n",
    "    else: \n",
    "        ym_1 = int(year_str+ ('0'+str(month-1))[-2:]  )\n",
    "        \n",
    "    return ym_1\n",
    "    \n",
    "df_covid_uk_month_1 = df_covid_uk_month\n",
    "\n",
    "df_covid_uk_month_1['month_year_num_1'] = df_covid_uk_month_1['month_year_num'].apply(sbtr_month)\n",
    "\n",
    "# ahora limpio el segundo data frame para quedearme solo con lo que me interesa\n",
    "field2drop = ['month_year','cumPeopleVaccinatedSecondDoseByPublishDate',\n",
    "              'cumPeopleVaccinatedThirdInjectionByPublishDate']\n",
    "df_covid_uk_month_1 = df_covid_uk_month_1.drop(field2drop, axis = 1)\n",
    "\n",
    "#renombro las columnas para poder tratarlas posteriormente con mayor facilidad\n",
    "renaming = {\"cumCasesByPublishDate\": \"cumCasesByPublishDate_1\",\"cumDeaths28DaysByPublishDate\": \"cumDeaths28DaysByPublishDate_1\",\n",
    "           \"cumPeopleVaccinatedFirstDoseByPublishDate\": \"cumPeopleVaccinatedFirstDoseByPublishDate_1\",\"areaName\": \"areaName_1\",\n",
    "           \"month_year_num\":\"month_year_num_actual\"}\n",
    "df_covid_uk_month_1.rename(columns = renaming, inplace = True)\n",
    "\n",
    "# hago un inner join para cruzar la informacion\n",
    "df_covid_uk_month_merged = pd.merge(df_covid_uk_month, df_covid_uk_month_1,  how='inner', left_on=['areaName','month_year_num'], right_on = ['areaName_1','month_year_num_1'])\n",
    "\n"
   ]
  },
  {
   "cell_type": "code",
   "execution_count": 10,
   "id": "54fb979a",
   "metadata": {},
   "outputs": [
    {
     "data": {
      "text/html": [
       "<div>\n",
       "<style scoped>\n",
       "    .dataframe tbody tr th:only-of-type {\n",
       "        vertical-align: middle;\n",
       "    }\n",
       "\n",
       "    .dataframe tbody tr th {\n",
       "        vertical-align: top;\n",
       "    }\n",
       "\n",
       "    .dataframe thead th {\n",
       "        text-align: right;\n",
       "    }\n",
       "</style>\n",
       "<table border=\"1\" class=\"dataframe\">\n",
       "  <thead>\n",
       "    <tr style=\"text-align: right;\">\n",
       "      <th></th>\n",
       "      <th>areaName</th>\n",
       "      <th>month_year</th>\n",
       "      <th>month_year_num</th>\n",
       "      <th>cumCasesByPublishDate</th>\n",
       "      <th>cumDeaths28DaysByPublishDate</th>\n",
       "      <th>cumPeopleVaccinatedFirstDoseByPublishDate</th>\n",
       "      <th>cumPeopleVaccinatedSecondDoseByPublishDate</th>\n",
       "      <th>cumPeopleVaccinatedThirdInjectionByPublishDate</th>\n",
       "      <th>month_year_num_1_x</th>\n",
       "      <th>areaName_1</th>\n",
       "      <th>month_year_num_actual</th>\n",
       "      <th>cumCasesByPublishDate_1</th>\n",
       "      <th>cumDeaths28DaysByPublishDate_1</th>\n",
       "      <th>cumPeopleVaccinatedFirstDoseByPublishDate_1</th>\n",
       "      <th>month_year_num_1_y</th>\n",
       "    </tr>\n",
       "  </thead>\n",
       "  <tbody>\n",
       "    <tr>\n",
       "      <th>159</th>\n",
       "      <td>West Midlands</td>\n",
       "      <td>2020-09</td>\n",
       "      <td>202009</td>\n",
       "      <td>42638</td>\n",
       "      <td>4637.0</td>\n",
       "      <td>NaN</td>\n",
       "      <td>NaN</td>\n",
       "      <td>NaN</td>\n",
       "      <td>202008</td>\n",
       "      <td>West Midlands</td>\n",
       "      <td>202010</td>\n",
       "      <td>88879</td>\n",
       "      <td>4974.0</td>\n",
       "      <td>NaN</td>\n",
       "      <td>202009</td>\n",
       "    </tr>\n",
       "    <tr>\n",
       "      <th>92</th>\n",
       "      <td>North West</td>\n",
       "      <td>2020-08</td>\n",
       "      <td>202008</td>\n",
       "      <td>53377</td>\n",
       "      <td>6159.0</td>\n",
       "      <td>NaN</td>\n",
       "      <td>NaN</td>\n",
       "      <td>NaN</td>\n",
       "      <td>202007</td>\n",
       "      <td>North West</td>\n",
       "      <td>202009</td>\n",
       "      <td>84650</td>\n",
       "      <td>6344.0</td>\n",
       "      <td>NaN</td>\n",
       "      <td>202008</td>\n",
       "    </tr>\n",
       "    <tr>\n",
       "      <th>71</th>\n",
       "      <td>North East</td>\n",
       "      <td>2020-09</td>\n",
       "      <td>202009</td>\n",
       "      <td>25690</td>\n",
       "      <td>2184.0</td>\n",
       "      <td>NaN</td>\n",
       "      <td>NaN</td>\n",
       "      <td>NaN</td>\n",
       "      <td>202008</td>\n",
       "      <td>North East</td>\n",
       "      <td>202010</td>\n",
       "      <td>60888</td>\n",
       "      <td>2610.0</td>\n",
       "      <td>NaN</td>\n",
       "      <td>202009</td>\n",
       "    </tr>\n",
       "    <tr>\n",
       "      <th>172</th>\n",
       "      <td>West Midlands</td>\n",
       "      <td>2021-10</td>\n",
       "      <td>202110</td>\n",
       "      <td>842438</td>\n",
       "      <td>14750.0</td>\n",
       "      <td>NaN</td>\n",
       "      <td>NaN</td>\n",
       "      <td>NaN</td>\n",
       "      <td>202109</td>\n",
       "      <td>West Midlands</td>\n",
       "      <td>202111</td>\n",
       "      <td>939304</td>\n",
       "      <td>15148.0</td>\n",
       "      <td>NaN</td>\n",
       "      <td>202110</td>\n",
       "    </tr>\n",
       "    <tr>\n",
       "      <th>101</th>\n",
       "      <td>North West</td>\n",
       "      <td>2021-05</td>\n",
       "      <td>202105</td>\n",
       "      <td>622597</td>\n",
       "      <td>17924.0</td>\n",
       "      <td>NaN</td>\n",
       "      <td>NaN</td>\n",
       "      <td>NaN</td>\n",
       "      <td>202104</td>\n",
       "      <td>North West</td>\n",
       "      <td>202106</td>\n",
       "      <td>697186</td>\n",
       "      <td>18061.0</td>\n",
       "      <td>NaN</td>\n",
       "      <td>202105</td>\n",
       "    </tr>\n",
       "  </tbody>\n",
       "</table>\n",
       "</div>"
      ],
      "text/plain": [
       "          areaName month_year  month_year_num  cumCasesByPublishDate  \\\n",
       "159  West Midlands    2020-09          202009                  42638   \n",
       "92      North West    2020-08          202008                  53377   \n",
       "71      North East    2020-09          202009                  25690   \n",
       "172  West Midlands    2021-10          202110                 842438   \n",
       "101     North West    2021-05          202105                 622597   \n",
       "\n",
       "     cumDeaths28DaysByPublishDate  cumPeopleVaccinatedFirstDoseByPublishDate  \\\n",
       "159                        4637.0                                        NaN   \n",
       "92                         6159.0                                        NaN   \n",
       "71                         2184.0                                        NaN   \n",
       "172                       14750.0                                        NaN   \n",
       "101                       17924.0                                        NaN   \n",
       "\n",
       "     cumPeopleVaccinatedSecondDoseByPublishDate  \\\n",
       "159                                         NaN   \n",
       "92                                          NaN   \n",
       "71                                          NaN   \n",
       "172                                         NaN   \n",
       "101                                         NaN   \n",
       "\n",
       "     cumPeopleVaccinatedThirdInjectionByPublishDate  month_year_num_1_x  \\\n",
       "159                                             NaN              202008   \n",
       "92                                              NaN              202007   \n",
       "71                                              NaN              202008   \n",
       "172                                             NaN              202109   \n",
       "101                                             NaN              202104   \n",
       "\n",
       "        areaName_1  month_year_num_actual  cumCasesByPublishDate_1  \\\n",
       "159  West Midlands                 202010                    88879   \n",
       "92      North West                 202009                    84650   \n",
       "71      North East                 202010                    60888   \n",
       "172  West Midlands                 202111                   939304   \n",
       "101     North West                 202106                   697186   \n",
       "\n",
       "     cumDeaths28DaysByPublishDate_1  \\\n",
       "159                          4974.0   \n",
       "92                           6344.0   \n",
       "71                           2610.0   \n",
       "172                         15148.0   \n",
       "101                         18061.0   \n",
       "\n",
       "     cumPeopleVaccinatedFirstDoseByPublishDate_1  month_year_num_1_y  \n",
       "159                                          NaN              202009  \n",
       "92                                           NaN              202008  \n",
       "71                                           NaN              202009  \n",
       "172                                          NaN              202110  \n",
       "101                                          NaN              202105  "
      ]
     },
     "metadata": {},
     "output_type": "display_data"
    }
   ],
   "source": [
    "display(df_covid_uk_month_merged.sample(5))"
   ]
  },
  {
   "cell_type": "code",
   "execution_count": 21,
   "id": "e5db7019",
   "metadata": {},
   "outputs": [
    {
     "data": {
      "text/html": [
       "<div>\n",
       "<style scoped>\n",
       "    .dataframe tbody tr th:only-of-type {\n",
       "        vertical-align: middle;\n",
       "    }\n",
       "\n",
       "    .dataframe tbody tr th {\n",
       "        vertical-align: top;\n",
       "    }\n",
       "\n",
       "    .dataframe thead th {\n",
       "        text-align: right;\n",
       "    }\n",
       "</style>\n",
       "<table border=\"1\" class=\"dataframe\">\n",
       "  <thead>\n",
       "    <tr style=\"text-align: right;\">\n",
       "      <th></th>\n",
       "      <th>areaName</th>\n",
       "      <th>month_year_num_actual</th>\n",
       "      <th>ActCasesByPublishDate</th>\n",
       "      <th>ActDeaths28DaysByPublishDate</th>\n",
       "      <th>ActPeopleVaccinatedFirstDoseByPublishDate</th>\n",
       "    </tr>\n",
       "  </thead>\n",
       "  <tbody>\n",
       "    <tr>\n",
       "      <th>84</th>\n",
       "      <td>North East</td>\n",
       "      <td>202111</td>\n",
       "      <td>44864</td>\n",
       "      <td>233.0</td>\n",
       "      <td>NaN</td>\n",
       "    </tr>\n",
       "    <tr>\n",
       "      <th>77</th>\n",
       "      <td>North East</td>\n",
       "      <td>202104</td>\n",
       "      <td>2861</td>\n",
       "      <td>24.0</td>\n",
       "      <td>NaN</td>\n",
       "    </tr>\n",
       "    <tr>\n",
       "      <th>145</th>\n",
       "      <td>South West</td>\n",
       "      <td>202106</td>\n",
       "      <td>18993</td>\n",
       "      <td>0.0</td>\n",
       "      <td>NaN</td>\n",
       "    </tr>\n",
       "    <tr>\n",
       "      <th>143</th>\n",
       "      <td>South West</td>\n",
       "      <td>202104</td>\n",
       "      <td>2739</td>\n",
       "      <td>47.0</td>\n",
       "      <td>NaN</td>\n",
       "    </tr>\n",
       "    <tr>\n",
       "      <th>171</th>\n",
       "      <td>West Midlands</td>\n",
       "      <td>202110</td>\n",
       "      <td>114773</td>\n",
       "      <td>345.0</td>\n",
       "      <td>NaN</td>\n",
       "    </tr>\n",
       "  </tbody>\n",
       "</table>\n",
       "</div>"
      ],
      "text/plain": [
       "          areaName  month_year_num_actual  ActCasesByPublishDate  \\\n",
       "84      North East                 202111                  44864   \n",
       "77      North East                 202104                   2861   \n",
       "145     South West                 202106                  18993   \n",
       "143     South West                 202104                   2739   \n",
       "171  West Midlands                 202110                 114773   \n",
       "\n",
       "     ActDeaths28DaysByPublishDate  ActPeopleVaccinatedFirstDoseByPublishDate  \n",
       "84                          233.0                                        NaN  \n",
       "77                           24.0                                        NaN  \n",
       "145                           0.0                                        NaN  \n",
       "143                          47.0                                        NaN  \n",
       "171                         345.0                                        NaN  "
      ]
     },
     "metadata": {},
     "output_type": "display_data"
    }
   ],
   "source": [
    "# ahora puedo calcular los actuals para los casos, las muertes y los vacunados\n",
    "# la formula generica sera: metericaActual = metricaAcumulada_1 - metricaAcumulada\n",
    "\n",
    "# calcularemos tres metricas nuevas: ActCasesByPublishDate, ActDeaths28DaysByPublishDate y ActPeopleVaccinatedFirstDoseByPublishDate\n",
    "\n",
    "df_covid_uk_month_merged[\"ActCasesByPublishDate\"] = df_covid_uk_month_merged[\"cumCasesByPublishDate_1\"] - df_covid_uk_month_merged[\"cumCasesByPublishDate\"] \n",
    "df_covid_uk_month_merged[\"ActDeaths28DaysByPublishDate\"] = df_covid_uk_month_merged[\"cumDeaths28DaysByPublishDate_1\"] - df_covid_uk_month_merged[\"cumDeaths28DaysByPublishDate\"] \n",
    "df_covid_uk_month_merged[\"ActPeopleVaccinatedFirstDoseByPublishDate\"] = df_covid_uk_month_merged[\"cumPeopleVaccinatedFirstDoseByPublishDate_1\"] - df_covid_uk_month_merged[\"cumPeopleVaccinatedFirstDoseByPublishDate\"] \n",
    "\n",
    "\n",
    "#dropeo las columnas que no son interesantes para el analisis\n",
    "field2drop = ['cumCasesByPublishDate_1','cumDeaths28DaysByPublishDate_1',\n",
    "              'cumPeopleVaccinatedFirstDoseByPublishDate_1','month_year_num_1_y',\n",
    "             'month_year','month_year_num','cumCasesByPublishDate','cumDeaths28DaysByPublishDate',\n",
    "              'cumPeopleVaccinatedFirstDoseByPublishDate','cumPeopleVaccinatedSecondDoseByPublishDate',\n",
    "              'cumPeopleVaccinatedThirdInjectionByPublishDate','month_year_num_1_x','areaName_1']\n",
    "\n",
    "df_covid_uk_month_merged = df_covid_uk_month_merged.drop(field2drop, axis = 1)\n",
    "\n",
    "display(df_covid_uk_month_merged.sample(5))\n"
   ]
  },
  {
   "cell_type": "code",
   "execution_count": 22,
   "id": "42b0017a",
   "metadata": {},
   "outputs": [
    {
     "data": {
      "text/plain": [
       "<AxesSubplot:xlabel='month_year_num_actual', ylabel='ActCasesByPublishDate'>"
      ]
     },
     "execution_count": 22,
     "metadata": {},
     "output_type": "execute_result"
    },
    {
     "data": {
      "image/png": "[encoded data removed]",
      "text/plain": [
       "<Figure size 432x288 with 1 Axes>"
      ]
     },
     "metadata": {
      "needs_background": "light"
     },
     "output_type": "display_data"
    }
   ],
   "source": [
    "import seaborn as sns\n",
    "\n",
    "sns.lineplot(data=df_covid_uk_month_merged\n",
    "             , x=\"month_year_num_actual\", y=\"ActCasesByPublishDate\"\n",
    "             , hue=\"areaName\")"
   ]
  },
  {
   "cell_type": "code",
   "execution_count": 23,
   "id": "ef67d669",
   "metadata": {},
   "outputs": [
    {
     "data": {
      "text/plain": [
       "<AxesSubplot:xlabel='month_year_num_actual', ylabel='ActCasesByPublishDate'>"
      ]
     },
     "execution_count": 23,
     "metadata": {},
     "output_type": "execute_result"
    },
    {
     "data": {
      "image/png": "[encoded data removed]",
      "text/plain": [
       "<Figure size 432x288 with 1 Axes>"
      ]
     },
     "metadata": {
      "needs_background": "light"
     },
     "output_type": "display_data"
    }
   ],
   "source": [
    "sns.lineplot(data=df_covid_uk_month_merged[df_covid_uk_month_merged[\"areaName\"] == 'London']\n",
    "             , x=\"month_year_num_actual\", y=\"ActCasesByPublishDate\"\n",
    "             , hue=\"areaName\")"
   ]
  },
  {
   "cell_type": "code",
   "execution_count": 25,
   "id": "83dd883f",
   "metadata": {
    "scrolled": true
   },
   "outputs": [
    {
     "data": {
      "text/plain": [
       "<AxesSubplot:xlabel='month_year_num_actual', ylabel='ActDeaths28DaysByPublishDate'>"
      ]
     },
     "execution_count": 25,
     "metadata": {},
     "output_type": "execute_result"
    },
    {
     "data": {
      "image/png": "[encoded data removed]",
      "text/plain": [
       "<Figure size 432x288 with 1 Axes>"
      ]
     },
     "metadata": {
      "needs_background": "light"
     },
     "output_type": "display_data"
    }
   ],
   "source": [
    "sns.lineplot(data=df_covid_uk_month_merged\n",
    "             , x=\"month_year_num_actual\", y=\"ActDeaths28DaysByPublishDate\"\n",
    "             , hue=\"areaName\")"
   ]
  },
  {
   "cell_type": "code",
   "execution_count": 26,
   "id": "fa17c26d",
   "metadata": {
    "scrolled": true
   },
   "outputs": [
    {
     "data": {
      "text/plain": [
       "<AxesSubplot:xlabel='month_year_num_actual', ylabel='ActDeaths28DaysByPublishDate'>"
      ]
     },
     "execution_count": 26,
     "metadata": {},
     "output_type": "execute_result"
    },
    {
     "data": {
      "image/png": "[encoded data removed]",
      "text/plain": [
       "<Figure size 432x288 with 1 Axes>"
      ]
     },
     "metadata": {
      "needs_background": "light"
     },
     "output_type": "display_data"
    }
   ],
   "source": [
    "sns.lineplot(data=df_covid_uk_month_merged[df_covid_uk_month_merged[\"areaName\"] == 'London']\n",
    "             , x=\"month_year_num_actual\", y=\"ActDeaths28DaysByPublishDate\"\n",
    "             , hue=\"areaName\")"
   ]
  },
  {
   "cell_type": "raw",
   "id": "ac4fc3ef",
   "metadata": {},
   "source": [
    "Vemos como aunque los casos hayan aumentado significativamente en 2021 con respecto en 2020, las muertes han disminuido drasticamente.\n",
    "\n",
    "Podemos notar un punto de inflexion entorno a enero de 2021"
   ]
  }
 ],
 "metadata": {
  "kernelspec": {
   "display_name": "Python 3 (ipykernel)",
   "language": "python",
   "name": "python3"
  },
  "language_info": {
   "codemirror_mode": {
    "name": "ipython",
    "version": 3
   },
   "file_extension": ".py",
   "mimetype": "text/x-python",
   "name": "python",
   "nbconvert_exporter": "python",
   "pygments_lexer": "ipython3",
   "version": "3.9.7"
  },
  "toc": {
   "base_numbering": 1,
   "nav_menu": {},
   "number_sections": true,
   "sideBar": true,
   "skip_h1_title": false,
   "title_cell": "Table of Contents",
   "title_sidebar": "Contents",
   "toc_cell": false,
   "toc_position": {},
   "toc_section_display": true,
   "toc_window_display": false
  }
 },
 "nbformat": 4,
 "nbformat_minor": 5
}
